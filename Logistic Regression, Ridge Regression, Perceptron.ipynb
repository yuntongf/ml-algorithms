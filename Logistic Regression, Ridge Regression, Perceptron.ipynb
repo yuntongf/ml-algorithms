{
  "cells": [
    {
      "cell_type": "markdown",
      "metadata": {
        "id": "m1dkS0VksGp7"
      },
      "source": [
        "# CIS 5200: Machine Learning\n",
        "## Homework 1"
      ]
    },
    {
      "cell_type": "code",
      "execution_count": 34,
      "metadata": {
        "colab": {
          "base_uri": "https://localhost:8080/"
        },
        "id": "QXZxyZDbr-Yx",
        "outputId": "b917cb5d-ed80-4fbd-b258-279aa545a706"
      },
      "outputs": [
        {
          "name": "stdout",
          "output_type": "stream",
          "text": [
            "[INFO, OK] Google Colab.\n"
          ]
        }
      ],
      "source": [
        "import os\n",
        "import sys\n",
        "\n",
        "# For autograder only, do not modify this cell. \n",
        "# True for Google Colab, False for autograder\n",
        "NOTEBOOK = (os.getenv('IS_AUTOGRADER') is None)\n",
        "if NOTEBOOK:\n",
        "    print(\"[INFO, OK] Google Colab.\")\n",
        "else:\n",
        "    print(\"[INFO, OK] Autograder.\")\n",
        "    sys.exit()"
      ]
    },
    {
      "cell_type": "markdown",
      "metadata": {
        "id": "swECpqQGvLu9"
      },
      "source": [
        "### Penngrader setup"
      ]
    },
    {
      "cell_type": "code",
      "execution_count": 35,
      "metadata": {
        "colab": {
          "base_uri": "https://localhost:8080/"
        },
        "id": "-peqcQNCvFSS",
        "outputId": "38db7c70-a9f4-4200-d309-8b237fd15093"
      },
      "outputs": [
        {
          "name": "stdout",
          "output_type": "stream",
          "text": [
            "Looking in indexes: https://pypi.org/simple, https://us-python.pkg.dev/colab-wheels/public/simple/\n",
            "Requirement already satisfied: penngrader-client in /usr/local/lib/python3.8/dist-packages (0.5.2)\n",
            "Requirement already satisfied: pyyaml in /usr/local/lib/python3.8/dist-packages (from penngrader-client) (6.0)\n",
            "Requirement already satisfied: dill in /usr/local/lib/python3.8/dist-packages (from penngrader-client) (0.3.6)\n"
          ]
        }
      ],
      "source": [
        "# %%capture\n",
        "!pip install penngrader-client"
      ]
    },
    {
      "cell_type": "code",
      "execution_count": 36,
      "metadata": {
        "colab": {
          "base_uri": "https://localhost:8080/"
        },
        "id": "9VOzgVapPgrZ",
        "outputId": "ed0e3be4-a1fb-4336-a88e-6b389f12c619"
      },
      "outputs": [
        {
          "name": "stdout",
          "output_type": "stream",
          "text": [
            "Overwriting config.yaml\n"
          ]
        }
      ],
      "source": [
        "%%writefile config.yaml\n",
        "grader_api_url: 'https://23whrwph9h.execute-api.us-east-1.amazonaws.com/default/Grader23'\n",
        "grader_api_key: 'flfkE736fA6Z8GxMDJe2q8Kfk8UDqjsG3GVqOFOa'"
      ]
    },
    {
      "cell_type": "code",
      "execution_count": 37,
      "metadata": {
        "colab": {
          "base_uri": "https://localhost:8080/"
        },
        "id": "gSSxUlaHvsrK",
        "outputId": "8802974f-c0fc-479e-92c8-21d004e88dfd"
      },
      "outputs": [
        {
          "name": "stdout",
          "output_type": "stream",
          "text": [
            "PennGrader initialized with Student ID: 38513713\n",
            "\n",
            "Make sure this correct or we will not be able to store your grade\n"
          ]
        }
      ],
      "source": [
        "from penngrader.grader import PennGrader\n",
        "\n",
        "# PLEASE ENSURE YOUR PENN-ID IS ENTERED CORRECTLY. IF NOT, THE AUTOGRADER WON'T KNOW WHO \n",
        "# TO ASSIGN POINTS TO YOU IN OUR BACKEND\n",
        "STUDENT_ID = 38513713 # YOUR PENN-ID GOES HERE AS AN INTEGER #\n",
        "SECRET = STUDENT_ID\n",
        "\n",
        "grader = PennGrader('config.yaml', 'CIS5200_23Sp_HW1', STUDENT_ID, SECRET)"
      ]
    },
    {
      "cell_type": "markdown",
      "metadata": {
        "id": "07cBnaLxrBC9"
      },
      "source": [
        "# Dataset: Wine Quality Prediction\n",
        "\n",
        "Some research on blind wine tasting has suggested that [people cannot taste the difference between ordinary and pricy wine brands](https://phys.org/news/2011-04-expensive-inexpensive-wines.html). Indeed, even experienced tasters may be as consistent as [random numbers](https://www.seattleweekly.com/food/wine-snob-scandal/). Is professional wine tasting in shambles? Maybe ML can take over. \n",
        "\n",
        "In this problem set, we will train some simple linear models to predict wine quality. We'll be using the data from [this repository](https://archive.ics.uci.edu/ml/datasets/Wine+Quality) for both the classification and regression tasks. The following cells will download and set up the data for you. "
      ]
    },
    {
      "cell_type": "code",
      "execution_count": 38,
      "metadata": {
        "id": "OxMFoDHQrAhj"
      },
      "outputs": [],
      "source": [
        "%%capture\n",
        "!wget https://archive.ics.uci.edu/ml/machine-learning-databases/wine-quality/winequality-red.csv\n",
        "!wget https://archive.ics.uci.edu/ml/machine-learning-databases/wine-quality/winequality-white.csv\n",
        "!wget https://archive.ics.uci.edu/ml/machine-learning-databases/wine-quality/winequality.names"
      ]
    },
    {
      "cell_type": "code",
      "execution_count": 39,
      "metadata": {
        "id": "SfW-vxHn_209"
      },
      "outputs": [],
      "source": [
        "from sklearn.model_selection import train_test_split\n",
        "import pandas as pd\n",
        "import torch\n",
        "\n",
        "red_df = pd.read_csv('winequality-red.csv', delimiter=';')\n",
        "\n",
        "X = torch.from_numpy(red_df.drop(columns=['quality']).to_numpy())\n",
        "y = torch.from_numpy(red_df['quality'].to_numpy())\n",
        "\n",
        "# Split data into train/test splits \n",
        "X_train, X_test, y_train, y_test = train_test_split(\n",
        "    X, y, test_size=0.2, random_state=42) \n",
        "\n",
        "# Normalize the data to have zero mean and standard deviation, \n",
        "# and add bias term\n",
        "mu, sigma = X_train.mean(0), X_train.std(0) \n",
        "X_train, X_test = [ torch.cat([((x-mu)/sigma).float(), torch.ones(x.size(0),1)], dim=1) \n",
        "                    for x in [X_train, X_test]]\n",
        "\n",
        "# Transform labels to {-1,1} for logistic regression\n",
        "y_binary_train, y_binary_test = [ (torch.sign(y - 5.5)).long() \n",
        "                                  for y in [y_train, y_test]]\n",
        "y_regression_train, y_regression_test = [ y.float() for y in [y_train, y_test]]"
      ]
    },
    {
      "cell_type": "markdown",
      "metadata": {
        "id": "ekkAUw53m9_W"
      },
      "source": [
        "# 1. Logistic Regression\n",
        "\n",
        "In this first problem, you will implement a logistic regression classifier to classify good wine (`y=1`) from bad wine (`y=-1`). Your professor has arbitrarily decided that good wine has a score of at least 5.5. The classifier is split into the following components: \n",
        "\n",
        "1. Loss (3pts) & gradient (3pts) - given a batch of examples $X$ and labels $y$ and weights for the logistic regression classifier, compute the batched logistic loss and gradient of the loss with *with respect to the model parameters $w$*. Note that this is slightly different from the gradient in Homework 0, which was with respect to the sample $X$. \n",
        "2. Fit (2pt) - Given a loss function and data, find the weights of an optimal logistic regression model that minimizes the logistic loss\n",
        "3. Predict (3pts) - Given the weights of a logistic regression model and new data, predict the most likely class\n",
        "\n",
        "We provide an generic gradient-based optimizer for you which minimizes the logistic loss function, you can call it with `LogisticOptimizer().optimize(X,y)`. It does not need any parameter adjustment. \n",
        "\n",
        "Hint: The optimizer will minimize the logistic loss. So this value of this loss should be decreasing over iterations."
      ]
    },
    {
      "cell_type": "code",
      "execution_count": 40,
      "metadata": {
        "id": "eBqvZesupS5k"
      },
      "outputs": [],
      "source": [
        "class LogisticOptimizer: \n",
        "    @staticmethod\n",
        "    def logistic_loss(X, y, w): \n",
        "        # Given a batch of samples and labels, and the weights of a logistic \n",
        "        # classifier, compute the batched logistic loss. \n",
        "        # \n",
        "        # X := Tensor(float) of size (m,d) --- This is a batch of m examples of \n",
        "        #     of dimension d\n",
        "        # \n",
        "        # y := Tensor(int) of size (m,) --- This is a batch of m labels in {-1,1}\n",
        "        # \n",
        "        # w := Tensor(float) of size(d,) --- This is the weights of a logistic \n",
        "        #     classifer. \n",
        "        # \n",
        "        # Return := Tensor of size (m,) --- This is the logistic loss for each \n",
        "        #     example. \n",
        "\n",
        "        # Fill in the rest\n",
        "        # log \u00101 + exp(−y w⊤x)\n",
        "        y = y.float()\n",
        "        fx = torch.sigmoid(w.unsqueeze(1).T@X.T)\n",
        "        ret = torch.where(y == 1, -torch.log(fx), -torch.log(1 - fx))\n",
        "        return ret.squeeze(0)\n",
        "\n",
        "    @staticmethod\n",
        "    def logistic_gradient(X, y, w): \n",
        "        # Given a batch of samples and labels, compute the batched gradient of\n",
        "        # the logistic loss. \n",
        "        # \n",
        "        # X := Tensor(float) of size (m,d) --- This is a batch of m examples of \n",
        "        #     of dimension d\n",
        "        # \n",
        "        # y := Tensor(int) of size (m,) --- This is a batch of m labels in {-1,1}\n",
        "        # \n",
        "        # w := Tensor(float) of size(d,) --- This is the weights of a logistic \n",
        "        #     classifer. \n",
        "        # \n",
        "        # Return := Tensor of size (m,d) --- This is the logistic gradient for each \n",
        "        #     example. \n",
        "        # \n",
        "        # Hint: A very similar gradient was calculated in Homework 0. \n",
        "        # However, that was the sample gradient (with respect to X), whereas \n",
        "        # what we need here is the parameter gradient (with respect to w). \n",
        "    \n",
        "        # Fill in the rest\n",
        "        ywx = y*X.matmul(w)\n",
        "        return X * (-y*torch.exp(-ywx)/(1 + torch.exp(-ywx))).unsqueeze(1)\n",
        "\n",
        "    def optimize(self, X, y, niters=100): \n",
        "        # Given a dataset of examples and labels, minimizes the logistic loss \n",
        "        # using standard gradient descent. \n",
        "        # \n",
        "        # This optimizer is written for you, and you only need to implement the \n",
        "        # logistic loss and gradient functions above. \n",
        "        # \n",
        "        # X := Tensor(float) of size (m,d) --- This is a batch of m examples of \n",
        "        #     of dimension d\n",
        "        # \n",
        "        # y := Tensor(int) of size (m,) --- This is a batch of m labels in {-1,1}\n",
        "        # \n",
        "        # Return := Tensor of size(d,) --- This is the fitted weights of a \n",
        "        #     logistic regression model \n",
        "\n",
        "        m,d = X.size()\n",
        "        w = torch.zeros(d)\n",
        "        print('Optimizing logistic function...')\n",
        "        for i in range(niters): \n",
        "            loss = self.logistic_loss(X,y,w).mean()\n",
        "            grad = self.logistic_gradient(X,y,w).mean(0)\n",
        "            w -= grad\n",
        "            if i % 50 == 0: \n",
        "                print(i, loss.item())\n",
        "        print('Optimizing done.')\n",
        "        return w\n",
        "\n",
        "def logistic_fit(X, y, optimizer=LogisticOptimizer): \n",
        "    # Given a dataset of examples and labels, fit the weights of the logistic \n",
        "    # regression classifier using the provided loss function and optimizer\n",
        "    # \n",
        "    # X := Tensor(float) of size (m,d) --- This is a batch of m examples of \n",
        "    #     of dimension d\n",
        "    # \n",
        "    # y := Tensor(int) of size (m,) --- This is a batch of m labels in {-1,1}\n",
        "    # \n",
        "    # Return := Tensor of size (d,) --- This is the fitted weights of the \n",
        "    #     logistic regression model \n",
        "    opt = LogisticOptimizer()\n",
        "\n",
        "    # Fill in the rest\n",
        "    return LogisticOptimizer.optimize(opt, X, y)\n",
        "\n",
        "def logistic_predict(X, w):\n",
        "    # Given a dataset of examples and fitted weights for a logistic regression \n",
        "    # classifier, predict the class\n",
        "    # \n",
        "    # X := Tensor(float) of size(m,d) --- This is a batch of m examples of \n",
        "    #    dimension d\n",
        "    # \n",
        "    # w := Tensor(float) of size (d,) --- This is the fitted weights of the \n",
        "    #    logistic regression model\n",
        "    # \n",
        "    # Return := Tensor of size (m,) --- This is the predicted classes {-1,1}\n",
        "    #    for each example\n",
        "    #\n",
        "    # Hint: Remember that logistic regression expects a label in {-1,1}, and \n",
        "    # not {0,1} \n",
        "\n",
        "    # Fill in the rest\n",
        "    return torch.sign(X.matmul(w))\n",
        "    \n"
      ]
    },
    {
      "cell_type": "code",
      "execution_count": 41,
      "metadata": {
        "colab": {
          "base_uri": "https://localhost:8080/"
        },
        "id": "CJziPLnPtFH-",
        "outputId": "8d70aa3d-f99d-4c9b-a35d-5c9d5b005ea1"
      },
      "outputs": [
        {
          "name": "stdout",
          "output_type": "stream",
          "text": [
            "Optimizing logistic function...\n",
            "0 0.6931473016738892\n",
            "50 0.518214225769043\n",
            "Optimizing done.\n",
            "Train accuracy [zero]: 0.00\n",
            "Test accuracy [zero]: 0.00\n",
            "Train accuracy [random]: 0.54\n",
            "Test accuracy [random]: 0.53\n",
            "Train accuracy [fitted]: 0.75\n",
            "Test accuracy [fitted]: 0.75\n"
          ]
        }
      ],
      "source": [
        "# Test your code on the wine dataset! \n",
        "# How does your solution compare to a random linear classifier? \n",
        "# Your solution should get around 75% accuracy on the test set. \n",
        "torch.manual_seed(42)\n",
        "\n",
        "d = X_train.size(1)\n",
        "logistic_weights = {\n",
        "    'zero': torch.zeros(d), \n",
        "    'random': torch.randn(d),\n",
        "    'fitted': logistic_fit(X_train, y_binary_train)\n",
        "}\n",
        "\n",
        "for k,w in logistic_weights.items(): \n",
        "    yp_binary_train = logistic_predict(X_train, w)\n",
        "    acc_train = (yp_binary_train == y_binary_train).float().mean()\n",
        "\n",
        "    print(f'Train accuracy [{k}]: {acc_train.item():.2f}')\n",
        "\n",
        "    yp_binary_test = logistic_predict(X_test, w)\n",
        "    acc_test = (yp_binary_test == y_binary_test).float().mean()\n",
        "\n",
        "    print(f'Test accuracy [{k}]: {acc_test.item():.2f}')"
      ]
    },
    {
      "cell_type": "markdown",
      "metadata": {
        "id": "KniRjDnBj6cN"
      },
      "source": [
        "### Autograder\n",
        "Be sure you can pass the following four tests! "
      ]
    },
    {
      "cell_type": "code",
      "execution_count": 42,
      "metadata": {
        "colab": {
          "base_uri": "https://localhost:8080/"
        },
        "id": "byU-tJrxVbO4",
        "outputId": "aaf0a151-f805-40bf-ee19-bc869ac2f23b"
      },
      "outputs": [
        {
          "name": "stdout",
          "output_type": "stream",
          "text": [
            "You earned 2/3 points.\n",
            "\n",
            "But, don't worry you can re-submit and we will keep only your latest score.\n",
            "Correct! You earned 3/3 points. You are a star!\n",
            "\n",
            "Your submission has been successfully recorded in the gradebook.\n",
            "Correct! You earned 2/2 points. You are a star!\n",
            "\n",
            "Your submission has been successfully recorded in the gradebook.\n",
            "Correct! You earned 3/3 points. You are a star!\n",
            "\n",
            "Your submission has been successfully recorded in the gradebook.\n"
          ]
        }
      ],
      "source": [
        "grader.grade(test_case_id = 'logistic_loss', answer = LogisticOptimizer.logistic_loss)\n",
        "grader.grade(test_case_id = 'logistic_gradient', answer = LogisticOptimizer.logistic_gradient)\n",
        "grader.grade(test_case_id = 'logistic_fit', answer = logistic_fit)\n",
        "grader.grade(test_case_id = 'logistic_predict', answer = logistic_predict)"
      ]
    },
    {
      "cell_type": "markdown",
      "metadata": {
        "id": "MQEG5lsN4EiQ"
      },
      "source": [
        "# 2. Linear Regression with Ridge Regression\n",
        "\n",
        "In this second problem, you'll implement a linear regression model. Similarly to the first problem, implement the following functions: \n",
        "\n",
        "1. Loss (3pts) - Given a batch of examples $X$ and labels $y$, compute the batched mean squared error loss for a linear model with weights $w$. \n",
        "2. Fit (4pts) - Given a batch of examples $X$ and labels $y$, find the weights of the optimal linear regression model\n",
        "3. Predict (3pts) - Given the weights $w$ of a linear regression model and new data $X$, predict the most likely label\n",
        "\n",
        "This time, you are not given an optimizer for the fitting function since this problem has an analytic solution. Make sure to test your solution with non-zero ridge regression parameters. \n",
        "\n",
        "Hint: You may want to review ridge regression on Slide 22 of Lecture 3. "
      ]
    },
    {
      "cell_type": "code",
      "execution_count": 43,
      "metadata": {
        "id": "1Qwk_gQuvvUD"
      },
      "outputs": [],
      "source": [
        "def regression_loss(X, y, w): \n",
        "    # Given a batch of linear regression outputs and true labels, compute \n",
        "    # the batch of squared error losses. This is *without* the ridge \n",
        "    # regression penalty. \n",
        "    # \n",
        "    # X := Tensor(float) of size (m,d) --- This is a batch of m examples of \n",
        "    #     of dimension d\n",
        "    # \n",
        "    # y := Tensor(int) of size (m,) --- This is a batch of m real-valued labels\n",
        "    # \n",
        "    # w := Tensor(float) of size(d,) --- This is the weights of a linear \n",
        "    #     classifer\n",
        "    # \n",
        "    # Return := Tensor of size (m,) --- This is the squared loss for each \n",
        "    #     example\n",
        "\n",
        "    # Fill in the rest\n",
        "    y_pred = w@X.T\n",
        "    return (y-y_pred)**2\n",
        "\n",
        "def regression_fit(X, y, ridge_penalty=1.0): \n",
        "    # Given a dataset of examples and labels, fit the weights of the linear \n",
        "    # regression classifier using the provided loss function and optimizer\n",
        "    # \n",
        "    # X := Tensor(float) of size (m,d) --- This is a batch of m examples of \n",
        "    #     of dimension d\n",
        "    # \n",
        "    # y := Tensor(float) of size (m,) --- This is a batch of m real-valued \n",
        "    #     labels\n",
        "    #\n",
        "    # ridge_penalty := float --- This is the parameter for ridge regression\n",
        "    # \n",
        "    # Return := Tensor of size (d,) --- This is the fitted weights of the \n",
        "    #     linear regression model \n",
        "    # \n",
        "    # Fill in the rest\n",
        "    # wˆλ = (X⊤X + λmI)−1X⊤Y.\n",
        "    m = X.size(0)\n",
        "    inv = torch.linalg.inv(X@X.T + ridge_penalty * m * torch.eye(m))\n",
        "    return torch.t(inv@X)@y\n",
        "\n",
        "def regression_predict(X, w):\n",
        "    # Given a dataset of examples and fitted weights for a linear regression \n",
        "    # classifier, predict the label\n",
        "    # \n",
        "    # X := Tensor(float) of size(m,d) --- This is a batch of m examples of \n",
        "    #    dimension d\n",
        "    # \n",
        "    # w := Tensor(float) of size (d,) --- This is the fitted weights of the \n",
        "    #    linear regression model\n",
        "    # \n",
        "    # Return := Tensor of size (m,) --- This is the predicted real-valued labels\n",
        "    #    for each example\n",
        "    # \n",
        "    # Fill in the rest\n",
        "    return w@X.T"
      ]
    },
    {
      "cell_type": "code",
      "execution_count": 44,
      "metadata": {
        "colab": {
          "base_uri": "https://localhost:8080/"
        },
        "id": "s-IgJEQvmy0n",
        "outputId": "6cb71448-8c4f-4432-ffd0-d49fe563d8b1"
      },
      "outputs": [
        {
          "name": "stdout",
          "output_type": "stream",
          "text": [
            "Train accuracy [zero]: 32.28\n",
            "Test accuracy [zero]: 32.97\n",
            "Train accuracy [random]: 29.64\n",
            "Test accuracy [random]: 29.55\n",
            "Train accuracy [fitted]: 8.37\n",
            "Test accuracy [fitted]: 8.60\n"
          ]
        }
      ],
      "source": [
        "# Test your code on the wine dataset! \n",
        "# How does your solution compare to a random linear classifier? \n",
        "# Your solution should get an average squard error of about 8.6 test set. \n",
        "torch.manual_seed(42)\n",
        "\n",
        "d = X_train.size(1)\n",
        "regression_weights = {\n",
        "    'zero': torch.zeros(d), \n",
        "    'random': torch.randn(d),\n",
        "    'fitted': regression_fit(X_train, y_regression_train)\n",
        "}\n",
        "\n",
        "for k,w in regression_weights.items(): \n",
        "    yp_regression_train = regression_predict(X_train, w)\n",
        "    squared_loss_train = regression_loss(X_train, y_regression_train, w).mean()\n",
        "\n",
        "    print(f'Train accuracy [{k}]: {squared_loss_train.item():.2f}')\n",
        "\n",
        "    yp_regression_test = regression_predict(X_test, w)\n",
        "    squared_loss_test = regression_loss(X_test, y_regression_test, w).mean()\n",
        "\n",
        "    print(f'Test accuracy [{k}]: {squared_loss_test.item():.2f}')"
      ]
    },
    {
      "cell_type": "markdown",
      "metadata": {
        "id": "2-ULL5s3o4D7"
      },
      "source": [
        "### Autograder\n",
        "Check the following 3 test cases. "
      ]
    },
    {
      "cell_type": "code",
      "execution_count": 45,
      "metadata": {
        "colab": {
          "base_uri": "https://localhost:8080/"
        },
        "id": "U1kFPqYcsXDN",
        "outputId": "331d6f4b-29f8-42c4-e3dd-94fa38f7fcc9"
      },
      "outputs": [
        {
          "name": "stdout",
          "output_type": "stream",
          "text": [
            "Correct! You earned 3/3 points. You are a star!\n",
            "\n",
            "Your submission has been successfully recorded in the gradebook.\n",
            "Correct! You earned 4/4 points. You are a star!\n",
            "\n",
            "Your submission has been successfully recorded in the gradebook.\n",
            "Correct! You earned 3/3 points. You are a star!\n",
            "\n",
            "Your submission has been successfully recorded in the gradebook.\n"
          ]
        }
      ],
      "source": [
        "grader.grade(test_case_id = 'regression_loss', answer = regression_loss)\n",
        "grader.grade(test_case_id = 'regression_fit', answer = regression_fit)\n",
        "grader.grade(test_case_id = 'regression_predict', answer = regression_predict)"
      ]
    },
    {
      "cell_type": "markdown",
      "metadata": {
        "id": "oAkrLz3rp4yM"
      },
      "source": [
        "# 3. Perceptron\n",
        "\n",
        "In this last problem, you will implement the perceptron algorithm. Since the algorithm requires linearly separate data and real data is usually noisy, we will have to use a synthetic example. "
      ]
    },
    {
      "cell_type": "code",
      "execution_count": 46,
      "metadata": {
        "id": "vqKUxVIJoDZI"
      },
      "outputs": [],
      "source": [
        "# Data generation for perceptron problem\n",
        "torch.manual_seed(42)\n",
        "\n",
        "m,d = 10,2\n",
        "X_perceptron = torch.randn(m,d) # generate random data\n",
        "w_opt = torch.randn(d) # generate random optimal solution\n",
        "y_perceptron = torch.sign(X_perceptron.matmul(w_opt)) # generate solution-consistent labels"
      ]
    },
    {
      "cell_type": "markdown",
      "metadata": {
        "id": "k_Ottsa3tXYj"
      },
      "source": [
        "We've given you a template for the perceptron algorithm. Calculate the following remaining functions: \n",
        "\n",
        "1. (3pts) Calculate the theoretical margin given the optimal linear classifier \n",
        "2. (3pts) Compute the condition for when the perceptron algorithm makes an update on a specific example\n",
        "3. (3pts) Compute the perceptron algorithm update to the weights when the update condition is satisfied\n",
        "\n",
        "You do not need to change `perceptron_algorithm`. "
      ]
    },
    {
      "cell_type": "code",
      "execution_count": 47,
      "metadata": {
        "id": "d1Mflw1qtU6r"
      },
      "outputs": [],
      "source": [
        "def perceptron_margin(X, w_opt): \n",
        "    # X := Tensor(float) of size (m,d) --- This is a batch of m examples of \n",
        "    #     of dimension d\n",
        "    # \n",
        "    # w_opt := Tensor(float) of size (d,) --- This is the ground truth linear \n",
        "    #     weights \n",
        "    # \n",
        "    # Return := Tensor(float) of size (1,) --- This is the theoretical margin\n",
        "    # \n",
        "    # Fill in the rest\n",
        "    w = torch.nn.functional.normalize(w_opt.unsqueeze(0), p=2, dim=1)\n",
        "    ret = torch.min(torch.abs(w@X.T))\n",
        "    print(ret.squeeze(0))\n",
        "    return ret.squeeze(0)\n",
        "\n",
        "def perceptron_update_condition(xi, yi, w): \n",
        "    # xi := Tensor(float) of size (d,) --- This is a a single example of \n",
        "    #     of dimension d\n",
        "    # \n",
        "    # yi := Tensor(float) of size (1,) --- This is a single label for the \n",
        "    #     example xi\n",
        "    # \n",
        "    # w := Tensor(float) of size (d,) --- This is the current estimate of the  \n",
        "    #     linear weights \n",
        "    # \n",
        "    # Return := Tensor(bool) of size (1,) --- This is true if the perceptron \n",
        "    #     algorithim will do an update on this example, and false otherwise\n",
        "    # \n",
        "    # Fill in the rest\n",
        "    yi_pred_sign = torch.sign(w@xi)\n",
        "    return torch.where(yi_pred_sign != torch.sign(yi), True, False)\n",
        "\n",
        "def perceptron_update_weight(xi, yi, w): \n",
        "    # xi := Tensor(float) of size (d,) --- This is a a single example of \n",
        "    #     of dimension d\n",
        "    # \n",
        "    # yi := Tensor(float) of size (1,) --- This is a single label for the \n",
        "    #     example xi\n",
        "    # \n",
        "    # w := Tensor(float) of size (d,) --- This is the current estimate of the  \n",
        "    #     linear weights \n",
        "    # \n",
        "    # Return := Tensor(float) of size (d,) --- This is the updated linear  \n",
        "    #     weights after performing the perceptron update\n",
        "    # \n",
        "    # Fill in the rest\n",
        "    # w = torch.nn.functional.normalize(w.unsqueeze(0), p=2, dim=1)\n",
        "    yixi = yi.float().unsqueeze(0)@xi.float().unsqueeze(0)\n",
        "    ret = torch.add(w.float(), yixi.squeeze(0))\n",
        "    return ret.squeeze(0)\n",
        "\n",
        "def perceptron_algorithm(X, y, niters=100):\n",
        "    m,d = X.size()\n",
        "    w = torch.zeros(d)\n",
        "    for t in range(niters):\n",
        "        weight_updated = False\n",
        "        for xi,yi in zip(X,y): \n",
        "            if perceptron_update_condition(xi, yi, w): \n",
        "                w = perceptron_update_weight(xi, yi, w)\n",
        "                weight_updated = True\n",
        "                break\n",
        "        if not weight_updated: \n",
        "            return w,t"
      ]
    },
    {
      "cell_type": "markdown",
      "metadata": {
        "id": "XZajA_YLw9M-"
      },
      "source": [
        "Try running the perceptron algorithm. Does it terminate in fewer steps than the theoretical bound? Is the final classifier close to the ground truth? "
      ]
    },
    {
      "cell_type": "code",
      "execution_count": 48,
      "metadata": {
        "colab": {
          "base_uri": "https://localhost:8080/",
          "height": 336
        },
        "id": "6XoXjCMguEK6",
        "outputId": "ac4eebdd-9c16-41f9-ddce-06b70f6e0113"
      },
      "outputs": [
        {
          "name": "stdout",
          "output_type": "stream",
          "text": [
            "Accuracy: 1.00 in 1 rounds.\n",
            "tensor(0.1362)\n",
            "Margin: 0.14. The perceptron algorithm is guaranteed to terminate in 53.92 rounds.\n"
          ]
        },
        {
          "data": {
            "text/plain": [
              "<matplotlib.legend.Legend at 0x7f9acc2abe80>"
            ]
          },
          "execution_count": 48,
          "metadata": {},
          "output_type": "execute_result"
        },
        {
          "data": {
            "image/png": "[encoded data removed]",
            "text/plain": [
              "<Figure size 432x288 with 1 Axes>"
            ]
          },
          "metadata": {
            "needs_background": "light"
          },
          "output_type": "display_data"
        }
      ],
      "source": [
        "import matplotlib\n",
        "%matplotlib inline\n",
        "import matplotlib.pyplot as plt\n",
        "\n",
        "# Test this out on the synthetic data\n",
        "w_perceptron,t = perceptron_algorithm(X_perceptron,y_perceptron)\n",
        "acc_perceptron = (torch.sign(X_perceptron.matmul(w_perceptron)) == y_perceptron).float().mean()\n",
        "\n",
        "print(f\"Accuracy: {acc_perceptron:.2f} in {t} rounds.\")\n",
        "\n",
        "margin = perceptron_margin(X_perceptron,w_opt)\n",
        "print(f\"Margin: {margin:.2f}. The perceptron algorithm is guaranteed to terminate in {1/(margin**2):.2f} rounds.\")\n",
        "\n",
        "# Plot the classifier. Is it close to the the ground truth? \n",
        "plt.scatter(X_perceptron[:,0], X_perceptron[:,1], c=y_perceptron)\n",
        "X_range = torch.linspace(-2,2, 50)\n",
        "plt.plot(X_range, -w_perceptron[0]/w_perceptron[1]*X_range) # estimated\n",
        "plt.plot(X_range, -w_opt[0]/w_opt[1]*X_range) # optimal\n",
        "plt.legend(['Perceptron Algorithm', 'Ground Truth'])"
      ]
    },
    {
      "cell_type": "markdown",
      "metadata": {
        "id": "sGyzcniWxRzi"
      },
      "source": [
        "### Autograder\n",
        "Check the following 3 test cases. "
      ]
    },
    {
      "cell_type": "code",
      "execution_count": 49,
      "metadata": {
        "colab": {
          "base_uri": "https://localhost:8080/"
        },
        "id": "lpxvJmEluxVJ",
        "outputId": "7c3868ab-e2c8-42ae-abab-f4949e577217"
      },
      "outputs": [
        {
          "name": "stdout",
          "output_type": "stream",
          "text": [
            "Correct! You earned 3/3 points. You are a star!\n",
            "\n",
            "Your submission has been successfully recorded in the gradebook.\n",
            "Correct! You earned 3/3 points. You are a star!\n",
            "\n",
            "Your submission has been successfully recorded in the gradebook.\n",
            "Correct! You earned 3/3 points. You are a star!\n",
            "\n",
            "Your submission has been successfully recorded in the gradebook.\n"
          ]
        }
      ],
      "source": [
        "grader.grade(test_case_id = 'perceptron_margin', answer = perceptron_margin)\n",
        "grader.grade(test_case_id = 'perceptron_update_condition', answer = perceptron_update_condition)\n",
        "grader.grade(test_case_id = 'perceptron_update_weight', answer = perceptron_update_weight)"
      ]
    },
    {
      "cell_type": "markdown",
      "metadata": {
        "id": "4-jlV0paox45"
      },
      "source": [
        "# Submitting to Gradescope\n",
        "Before submitting to Gradescope, make sure that selecting \"Runtime\" -> \"Restart and run all\" completes all cells without errors. \n",
        "\n",
        "1. Go to the File menu and choose \"Download .ipynb\" and also \"Download .py\". Make sure these files are named homework1.ipynb and homework1.py, respectively\n",
        "2. Go to GradeScope through the canvas page and ensure your class is \"BAN_CIS-5200-001 202310\"\n",
        "3. Select Homework 1\n",
        "4. Upload both files (the .ipynb and the .py)\n",
        "5. PLEASE CHECK THE AUTOGRADER OUTPUT TO ENSURE YOUR SUBMISSION IS PROCESSED CORRECTLY! If this is the case, you should be all set with the programming component of this homework!"
      ]
    }
  ],
  "metadata": {
    "colab": {
      "provenance": []
    },
    "kernelspec": {
      "display_name": "Python 3.10.1 64-bit",
      "language": "python",
      "name": "python3"
    },
    "language_info": {
      "name": "python",
      "version": "3.8.0"
    },
    "vscode": {
      "interpreter": {
        "hash": "aee8b7b246df8f9039afb4144a1f6fd8d2ca17a180786b69acc140d282b71a49"
      }
    }
  },
  "nbformat": 4,
  "nbformat_minor": 0
}
