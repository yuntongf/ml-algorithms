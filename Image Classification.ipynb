{
 "cells": [
  {
   "cell_type": "markdown",
   "metadata": {},
   "source": [
    "# Lab 4 Image processing"
   ]
  },
  {
   "cell_type": "markdown",
   "metadata": {},
   "source": [
    "Images are mathematically modeled as functions of two variables. These variables represent the vertical coordinate $m$ and the horizontal coordinate $n$. These variables can be discrete or continuous but we will consider them here to be discrete. In this case the coordinate pair $(m, n)$ is called a pixel. We restrict each pixel coordinate to be between 0 and $N-1$. We use $\\mathbf{X}$ to denote the image and and $x(m, n)$ to represent the value at pixel $(m, n)$. Pixels of an image are arranged in a matrix,\n",
    "$$\n",
    "\\mathbf{X}=\\left(\\begin{array}{cccccc}\n",
    "x(0,0) & x(0,1) & \\cdots & x(0, n) & \\cdots & x(0, N) \\\\\n",
    "x(1,0) & x(1,1) & \\cdots & x(1, n) & \\cdots & x(1, N) \\\\\n",
    "\\vdots & \\vdots & & \\vdots & & \\vdots \\\\\n",
    "x(m, 0) & x(m, 1) & \\cdots & x(m, n) & \\cdots & x(m, N) \\\\\n",
    "\\vdots & \\vdots & & \\vdots & & \\vdots \\\\\n",
    "x(N, 0) & x(N, 1) & \\cdots & x(N, n) & \\cdots & x(N, N)\n",
    "\\end{array}\\right)\n",
    "$$\n",
    "Thus, an image $\\mathbf{X}$ is a matrix in which entries $x(m, n)$ represent pixel values.\n",
    "\n",
    "The interpretation of this matrix is that pixel values $x(m, n)$ represent the luminance of the pixel. The luminance is how much light is reflected by the pixel.\n",
    "\n",
    "## Handwritten Digits\n",
    "\n",
    "In this lab we work with black and white images that represent handwritten digits. In Figure 1 we show an image of a handwritten number 1 and a handwritten number 3 . The dataset we are given contains pairs $\\left(\\mathbf{X}_q, y_q\\right)$ of images $\\mathbf{X}_q$ and human annotations $y_q$ that identify the correct digits.\n",
    "\n",
    "## Task 1:\n",
    "Load the data and visualize three images."
   ]
  },
  {
   "cell_type": "markdown",
   "metadata": {
    "id": "cVfs5abXl7Mf"
   },
   "source": [
    "### Setup"
   ]
  },
  {
   "cell_type": "code",
   "execution_count": 14,
   "metadata": {
    "id": "W5aQrnxuZ4Q1"
   },
   "outputs": [],
   "source": [
    "import torch\n",
    "import torch.nn as nn\n",
    "import torch.nn.functional as F\n",
    "import torch.optim as optim\n",
    "from torchvision import datasets, transforms\n",
    "import matplotlib.pyplot as plt\n",
    "import numpy as np\n",
    "import time"
   ]
  },
  {
   "cell_type": "markdown",
   "metadata": {
    "id": "_HdcySO-l8qp"
   },
   "source": [
    "### Loading the Data\n",
    "\n",
    "We will use torchvision's MNIST dataset class to download the data."
   ]
  },
  {
   "cell_type": "code",
   "execution_count": 2,
   "metadata": {
    "colab": {
     "base_uri": "https://localhost:8080/",
     "height": 431,
     "referenced_widgets": [
      "5f0b66a596524d9a94bf9fc4d982df4f",
      "d725fe8684044407967132263d1ccd3f",
      "6035fa599c0a4c5cbcbada2b9c099906",
      "ec470e78d66b48dcaaebfdc2ea3bca2e",
      "dd53fbec49bf459aa4e1bedd90a7c485",
      "8ef7cdc48078428c8e2bd17ed7050dfd",
      "17a6e1b6f0644c9095fb97adef75c5aa",
      "0786062f242a4893818635909fdeeb97",
      "3435394c4673475c9afdb85dec64263c",
      "3d038b8f079641ed9c620c1e1e3fa168",
      "e51cd2cde5b246fa863d30b1447442f4",
      "33a30288ce7c4bceb1ff8f39a5d5f716",
      "9c45228383c4469a90fc3a7b3a7ff590",
      "fc861e4374f54c22ad691ba66ea0e583",
      "32b7993af93a46789fdcd5efaccb1baa",
      "a6d58bdc0d9649e288b390bb106ebaab",
      "7f982a8b26714a19bc72b2f465017fee",
      "0f9aaab19fd9421facb73d49905a5691",
      "4db7ce285e724a6d9cd0b638c7ced711",
      "7f50ac0d39504b62864eb03efa6bccf2",
      "09871d476f1248c58e2c3d6fbb446558",
      "5bba2d0a64bd45f89b447d07d1d90d53",
      "235892b2c34a4971b07f4f78943c7983",
      "d6b2d9c830574fc59e4796923e743186",
      "09e9658e40c745efac2012f74b15106a",
      "63fa6f01d5704c37a1c34b07fcd30177",
      "2d24fd74856943878437dbb73fa99348",
      "f56d36f7f86742e0b5d604efe4635f1b",
      "909f1d379a7340e5a7b6e69ae396a26a",
      "5f668f581aa94c8da5ea64c6cc7b9bcf",
      "822eb3f65cfe49d9ab17a23b674abda1",
      "17c32654cbc2444da60e755fc0d8c5c4",
      "16e5147d7f3147748dd871b5f6dc8604",
      "3897fb8425a94619a0c20583f1febb92",
      "d314cb8c97e94702aac1c306cf244b37",
      "ec2b8d286f8d44afa1327ef566b4105c",
      "70bd02a001be462e8626fcac21786a18",
      "e48d64463ce54b32826e8c621353bff0",
      "d370857704b24d1eb8124c719956c83f",
      "9d7091aa6c434ad09a5447f7d1c50f54",
      "0e6a0c9baf72474281741ba9a64ea169",
      "5efad5dfd5184b7aaf30e1d5aacf0a7c",
      "c94997c37d714ef7bc2ad2861b4a42fd",
      "a43d99041e684ee4b7cd6f8fd27a42a0"
     ]
    },
    "id": "Z70MsxxoZ4YW",
    "outputId": "38d79f59-5390-4dca-8f74-d0b3dd0fc209"
   },
   "outputs": [
    {
     "name": "stdout",
     "output_type": "stream",
     "text": [
      "Downloading http://yann.lecun.com/exdb/mnist/train-images-idx3-ubyte.gz\n",
      "Downloading http://yann.lecun.com/exdb/mnist/train-images-idx3-ubyte.gz to ./data/MNIST/raw/train-images-idx3-ubyte.gz\n"
     ]
    },
    {
     "name": "stderr",
     "output_type": "stream",
     "text": [
      "100%|████████████████████████████| 9912422/9912422 [00:02<00:00, 3889716.68it/s]\n"
     ]
    },
    {
     "name": "stdout",
     "output_type": "stream",
     "text": [
      "Extracting ./data/MNIST/raw/train-images-idx3-ubyte.gz to ./data/MNIST/raw\n",
      "\n",
      "Downloading http://yann.lecun.com/exdb/mnist/train-labels-idx1-ubyte.gz\n",
      "Downloading http://yann.lecun.com/exdb/mnist/train-labels-idx1-ubyte.gz to ./data/MNIST/raw/train-labels-idx1-ubyte.gz\n"
     ]
    },
    {
     "name": "stderr",
     "output_type": "stream",
     "text": [
      "100%|████████████████████████████████| 28881/28881 [00:00<00:00, 3981976.06it/s]"
     ]
    },
    {
     "name": "stdout",
     "output_type": "stream",
     "text": [
      "Extracting ./data/MNIST/raw/train-labels-idx1-ubyte.gz to ./data/MNIST/raw\n",
      "\n",
      "Downloading http://yann.lecun.com/exdb/mnist/t10k-images-idx3-ubyte.gz\n",
      "Downloading http://yann.lecun.com/exdb/mnist/t10k-images-idx3-ubyte.gz to ./data/MNIST/raw/t10k-images-idx3-ubyte.gz\n"
     ]
    },
    {
     "name": "stderr",
     "output_type": "stream",
     "text": [
      "\n",
      "100%|████████████████████████████| 1648877/1648877 [00:01<00:00, 1230558.51it/s]\n"
     ]
    },
    {
     "name": "stdout",
     "output_type": "stream",
     "text": [
      "Extracting ./data/MNIST/raw/t10k-images-idx3-ubyte.gz to ./data/MNIST/raw\n",
      "\n",
      "Downloading http://yann.lecun.com/exdb/mnist/t10k-labels-idx1-ubyte.gz\n",
      "Downloading http://yann.lecun.com/exdb/mnist/t10k-labels-idx1-ubyte.gz to ./data/MNIST/raw/t10k-labels-idx1-ubyte.gz\n"
     ]
    },
    {
     "name": "stderr",
     "output_type": "stream",
     "text": [
      "100%|██████████████████████████████████| 4542/4542 [00:00<00:00, 3852483.07it/s]"
     ]
    },
    {
     "name": "stdout",
     "output_type": "stream",
     "text": [
      "Extracting ./data/MNIST/raw/t10k-labels-idx1-ubyte.gz to ./data/MNIST/raw\n",
      "\n"
     ]
    },
    {
     "name": "stderr",
     "output_type": "stream",
     "text": [
      "\n"
     ]
    }
   ],
   "source": [
    "# Image normalization\n",
    "transform = transforms.Compose([\n",
    "        transforms.ToTensor(),\n",
    "        transforms.Normalize((0.1307,), (0.3081,))\n",
    "        ])\n",
    "\n",
    "# Download MNIST train and test set and normalize images\n",
    "train_set = datasets.MNIST('./data', train=True, download=True, transform=transform)\n",
    "test_set = datasets.MNIST('./data', train=False, download=True, transform=transform)\n",
    "\n",
    "# Define train and test dataloaders, used to get batches sequentially\n",
    "train_loader = torch.utils.data.DataLoader(train_set, batch_size=128)\n",
    "test_loader = torch.utils.data.DataLoader(train_set, batch_size=1024)"
   ]
  },
  {
   "cell_type": "markdown",
   "metadata": {},
   "source": [
    "### Visualize Images"
   ]
  },
  {
   "cell_type": "code",
   "execution_count": 3,
   "metadata": {
    "colab": {
     "base_uri": "https://localhost:8080/",
     "height": 317
    },
    "id": "G5CdLbXCaKrZ",
    "outputId": "ebdda3e0-e561-4af8-8ab5-7f95efdedfa2"
   },
   "outputs": [
    {
     "name": "stdout",
     "output_type": "stream",
     "text": [
      "Image size torch.Size([28, 28]) \n",
      "\n"
     ]
    },
    {
     "data": {
      "image/png": "[encoded data removed]",
      "text/plain": [
       "<Figure size 640x480 with 1 Axes>"
      ]
     },
     "metadata": {},
     "output_type": "display_data"
    }
   ],
   "source": [
    "# Sample Visualization\n",
    "img_index = 20\n",
    "image = train_set[img_index][0].squeeze()\n",
    "plt.imshow(image, cmap = 'binary_r')\n",
    "plt.title(f\"Label: {train_set[img_index][1]}\")\n",
    "print(f\"Image size {image.shape} \\n\")"
   ]
  },
  {
   "cell_type": "markdown",
   "metadata": {},
   "source": [
    "## Shifts in Space\n",
    "Before defining convolutions to process images we have to introduce vertical and horizontal shift operators. We name these operators $\\mathcal{S}_{\\mathrm{v}}$ and $\\mathcal{S}_{\\mathrm{H}}$ and define them as the operators whose action on an image $\\mathbf{X}$ results in a shifting of vertical and horizontal coordinates, respectively. Thus, if applying the vertical shift $\\mathcal{S}_{\\mathrm{v}}$ to the image $\\mathbf{X}$ yields the image $\\mathbf{U}_{10}=\\mathcal{S}_{\\mathrm{v}} \\mathbf{X}$, the entries $u_{10}(m, n)$ of the vertically shifted image $\\mathbf{U}_{10}$ are\n",
    "$$\n",
    "u_{10}(m, n)=x(m-1, n), \\text { when } \\mathbf{U}_{10}=\\mathcal{S}_{\\mathrm{v}} \\mathbf{X}\n",
    "$$\n",
    "Likewise if applying the vertical shift $\\mathcal{S}_{\\mathrm{H}}$ to the image $\\mathbf{X}$ yields the image $\\mathbf{U}_{01}=\\mathcal{S}_{\\mathrm{v}} \\mathbf{X}$, the entries $u_{01}(m, n)$ of the horizontally shifted image $\\mathbf{U}_{01}$ are\n",
    "$$\n",
    "u_{01}(m, n)=x(m, n-1), \\quad \\text { when } \\mathbf{U}_{01}=\\mathcal{S}_{\\mathrm{H}} \\mathbf{X}\n",
    "$$\n",
    "\n",
    "### Shift Compositions and Spatial Shift Sequences\n",
    "\n",
    "As in the case of time signals, image shifts can be composed. We can compose any number of vertical shifts with any number of horizontal shifts. This results in the definition of the spatial shift sequence composed of images\n",
    "$$\n",
    "\\mathbf{U}_{k l}=\\mathcal{S}_{\\mathrm{v}}^k \\mathcal{S}_{\\mathrm{H}}^l \\mathbf{X} .\n",
    "$$\n",
    "\n",
    "This is an image in which the entries are $u_{k l}(m, n)=x(m-k, n-l)$. That is, the image $\\mathbf{U}_{k l}$ is one in which the pixels are shifted $k$ pixels down and $l$ pixels to the right.\n",
    "\n",
    "It is important to note that the spatial shift sequence in (10) can be computed recursively. To do that we need to define the vertical and horizontal recursions\n",
    "$$\n",
    "\\mathbf{U}_{k l}=\\mathcal{S}_{\\mathrm{v}} \\mathbf{U}_{(k-1) l}, \\quad \\mathbf{U}_{k l}=\\mathcal{S}_{\\mathrm{H}} \\mathbf{U}_{k(l-1)},\n",
    "$$\n",
    "with the initial condition $\\mathbf{U}_{00}=\\mathbf{X}$. Recursive computation of the spatial diffusion sequence is important in practical implementations.\n",
    "\n",
    "### Negative shifts\n",
    "\n",
    "A negative vertical shift is a shift that moves the pixels up. We denote this shift by $\\mathcal{S}_{\\mathrm{v}}^{-1}$ and define it as the shift that when acting on the image $\\mathbf{X}$ yields the image $\\mathbf{U}_{(-1) 0}=\\mathcal{S}_v^{-1} \\mathbf{X}$ whose entries are given by\n",
    "$$\n",
    "u_{(-1) 0}(m, n)=x(m+1, n), \\quad \\text { when } \\mathbf{U}_{(-1) 0}=\\mathcal{S}_{\\mathrm{v}}^{-1} \\mathbf{X} .\n",
    "$$\n",
    "In this definition we adopt the convention that $x(N+1, n)=0$. This means that when applying the negative shift $\\mathcal{S}_{\\mathrm{v}}^{-1}$ we fill the last row of $\\mathbf{U}_{(-1) 0}$ with zeros. This is because there are no entries of $\\mathbf{X}$ that can be shifted into this row.\n",
    "\n",
    "Likewise a negative horizontal shift is a shift that moves the pixels left. We denote this shift by $\\mathcal{S}_{\\mathrm{H}}^{-1}$ and define it as the shift that when acting on the image $\\mathbf{X}$ yields the image $\\mathbf{U}_{0(-1)}=\\mathcal{S}_{\\mathrm{H}}^{-1} \\mathbf{X}$ whose entries are given by\n",
    "$$\n",
    "u_{0(-1)}(m, n)=x(m, n+1) \\text {, when } \\mathbf{U}_{0(-1) 0}=\\mathcal{S}_{\\mathrm{H}}^{-1} \\mathbf{X} .\n",
    "$$\n",
    "In this definition we adopt the convention that $x(m, N+1)=0$. This means that when applying the negative shift $\\mathcal{S}_{\\mathrm{H}}^{-1}$ we fill the last column of $\\mathbf{U}_{(-1) 0}$ with zeros. This is because there are no entries of $\\mathbf{X}$ that can be shifted into this column.\n",
    "\n",
    "As is the case of the positive shifts $\\mathcal{S}_{\\mathrm{v}}$ and $\\mathcal{S}_{\\mathrm{H}}$, the negative shifts $\\mathcal{S}_{\\mathrm{V}}^{-1}$ and $\\mathcal{S}_{\\mathrm{H}}^{-1}$ can be composed.\n",
    "\n",
    "\n",
    "## Convolutions in space\n",
    "\n",
    "A spatial convolution is a linear combination of the components of the spatial diffusion sequence in (14). For a formal definition we consider a filter range $K$ and define filter coefficients $h_{k l}$ for $k$ and $l$ ranging from $-K$ to $K$. The outcome of applying the filter with coefficients $h_{k l}$ to the image $\\mathbf{X}$ is the image\n",
    "$$\n",
    "\\mathbf{Y}=\\sum_{k=-K}^K \\sum_{l=-K}^K h_{k l} \\mathcal{S}_{\\mathrm{v}}^k \\mathcal{S}_{\\mathrm{H}}^l \\mathbf{X} .\n",
    "$$\n",
    "Observe that in this definition we allow for positive and negative shifts. For simplicity we assume that the maximum number of shifts in either direction is the same. They can be made different, but it is standard practice to keep them equal.\n",
    "\n",
    "We note that the total number of filter coefficients of a two dimensional convolution is $(2 K+1)^2$. These coefficients are arranged in a matrix $\\mathbf{H}$.\n",
    "\n",
    "## Task 2A\n",
    "\n",
    " Write a function that takes an image $\\mathbf{X}$ and a filter  $\\mathbf{H}$ as an input and returns as an output the result of convolving the mage with the filter.\n"
   ]
  },
  {
   "cell_type": "code",
   "execution_count": 4,
   "metadata": {
    "id": "lOob8iqPjxfe"
   },
   "outputs": [],
   "source": [
    "def conv2D(image, filters):\n",
    "    \"\"\"\n",
    "    Performs 2D convolution on the given image with the given filters.\n",
    "    Args:\n",
    "        image (torch.Tensor): input image of shape (height, width).\n",
    "        filters (torch.Tensor): filters of shape (num_filters, filter_size, filter_size).\n",
    "                            where filter_size is 2*K+1\n",
    "\n",
    "    Returns:\n",
    "        torch.Tensor: convolved image of shape (num_kernels, height, width).\n",
    "    \"\"\"\n",
    "\n",
    "    num_filters, m, n = filters.shape\n",
    "    y, x = image.shape\n",
    "\n",
    "    y_pad = y + m - 1\n",
    "    x_pad = x + n - 1\n",
    "\n",
    "    # Initialize output tensor\n",
    "    result = torch.zeros((num_filters, y_pad, x_pad))\n",
    "    result[:, m//2:y_pad-m//2, n//2:x_pad-n//2] = image\n",
    "\n",
    "    # Initialize output\n",
    "    output = torch.zeros((num_filters, y, x))\n",
    "    # Iterate over the kernels\n",
    "    for idx in range(num_filters):\n",
    "        filter = filters[idx]\n",
    "        # Iterate over the kernel entries\n",
    "        for i in range(m):\n",
    "            for j in range(n):\n",
    "                # Shift the image vertically and then horizontally\n",
    "                rolled_image = torch.roll(torch.roll(result[idx], -i+m//2, dims=0), -j+n//2, dims=1)\n",
    "                # Multiply the kernel with the rolled image and sum the result\n",
    "                output[idx] += rolled_image[m//2: m//2+y, n//2: n//2+x] * filter[i, j]\n",
    "\n",
    "    return output"
   ]
  },
  {
   "cell_type": "markdown",
   "metadata": {},
   "source": [
    "## Task 2B\n",
    "\n",
    "Define a FilterBank class that inherits from nn.module. It stores filter parameters as an attribute and its forward method will compute the convolution of a batch of input images."
   ]
  },
  {
   "cell_type": "code",
   "execution_count": 6,
   "metadata": {
    "id": "dtyCGj9EL8LJ"
   },
   "outputs": [],
   "source": [
    "class FilterBank(nn.Module):\n",
    "    def __init__(self,  num_filters, K):\n",
    "        super(FilterBank, self).__init__()\n",
    "\n",
    "        L = K*2+1\n",
    "        self.num_filters = num_filters\n",
    "        self.filters = torch.zeros((num_filters, L, L))\n",
    "\n",
    "    def forward(self, x):\n",
    "\n",
    "        b, h, w = x.shape\n",
    "        out = torch.zeros((b, self.num_filters, h, w))\n",
    "\n",
    "        # Iterate over images in the batches\n",
    "        for i, img in enumerate(x):\n",
    "            out[i] = conv2D(img, self.filters)\n",
    "\n",
    "        return out"
   ]
  },
  {
   "cell_type": "markdown",
   "metadata": {},
   "source": [
    "## Task 3\n",
    "Define filters H with entries $h_{kl} = 1/(2K + 1)^2$ Use the class inTask 2 to instantiate these filters with K = 2, K = 4, and K = 8. Apply these filters to the images you visualized in Task 1. \n",
    "\n",
    "What is the effect of applying these filters?"
   ]
  },
  {
   "cell_type": "code",
   "execution_count": 7,
   "metadata": {
    "colab": {
     "base_uri": "https://localhost:8080/",
     "height": 299
    },
    "id": "6tHO4WEbRqjc",
    "outputId": "58532eb3-f346-4d41-8291-1d5a62b07103"
   },
   "outputs": [
    {
     "data": {
      "text/plain": [
       "Text(0.5, 1.0, 'Original image')"
      ]
     },
     "execution_count": 7,
     "metadata": {},
     "output_type": "execute_result"
    },
    {
     "data": {
      "image/png": "[encoded data removed]",
      "text/plain": [
       "<Figure size 640x480 with 1 Axes>"
      ]
     },
     "metadata": {},
     "output_type": "display_data"
    }
   ],
   "source": [
    "img = train_set[0][0]\n",
    "plt.imshow(img.squeeze(), cmap = 'binary_r')\n",
    "plt.title(\"Original image\")"
   ]
  },
  {
   "cell_type": "code",
   "execution_count": 10,
   "metadata": {
    "colab": {
     "base_uri": "https://localhost:8080/",
     "height": 299
    },
    "id": "75s61YSQQiAb",
    "outputId": "9132751d-0d3c-44e4-c6d9-0d97720c208e"
   },
   "outputs": [
    {
     "data": {
      "text/plain": [
       "Text(0.5, 1.0, 'Covolved image with K=2')"
      ]
     },
     "execution_count": 10,
     "metadata": {},
     "output_type": "execute_result"
    },
    {
     "data": {
      "image/png": "[encoded data removed]",
      "text/plain": [
       "<Figure size 640x480 with 1 Axes>"
      ]
     },
     "metadata": {},
     "output_type": "display_data"
    }
   ],
   "source": [
    "K = 2\n",
    "# Instatiate FIlter Bank with one Filter\n",
    "filt = FilterBank(num_filters = 1, K = K)\n",
    "# Set to  uniform filter\n",
    "filt.filters = torch.ones((1, 2*K+1, 2*K+1))*(1/(2*K+1)**2)\n",
    "# Perform 2D convolution\n",
    "out = filt(img)\n",
    "\n",
    "plt.imshow(out.squeeze(), cmap = 'binary_r')\n",
    "plt.title(\"Covolved image with K=2\")"
   ]
  },
  {
   "cell_type": "code",
   "execution_count": 11,
   "metadata": {
    "colab": {
     "base_uri": "https://localhost:8080/",
     "height": 299
    },
    "id": "6Cvz07erREgY",
    "outputId": "a82f9f7d-4825-4903-976b-24d05d8dd693"
   },
   "outputs": [
    {
     "data": {
      "text/plain": [
       "Text(0.5, 1.0, 'Covolved image with K=4')"
      ]
     },
     "execution_count": 11,
     "metadata": {},
     "output_type": "execute_result"
    },
    {
     "data": {
      "image/png": "[encoded data removed]",
      "text/plain": [
       "<Figure size 640x480 with 1 Axes>"
      ]
     },
     "metadata": {},
     "output_type": "display_data"
    }
   ],
   "source": [
    "K = 4\n",
    "# Instatiate FIlter Bank with one Filter\n",
    "filt = FilterBank(num_filters = 1, K = 4)\n",
    "# Set to  uniform filter\n",
    "filt.filters = torch.ones((1, 2*K+1, 2*K+1))*(1/(2*K+1)**2)\n",
    "# Perform 2D convolution\n",
    "out = filt(img)\n",
    "\n",
    "plt.imshow(out.squeeze(), cmap = 'binary_r')\n",
    "plt.title(\"Covolved image with K=4\")"
   ]
  },
  {
   "cell_type": "markdown",
   "metadata": {
    "id": "DBySrwqJR6cN"
   },
   "source": [
    "## Task 4\n",
    "\n",
    "Pytorch comes with its own function for computing two dimensional convolutions. Consider the same filters of Task 3 with K = 8. Execute your own convolution code and the code that comes built in Pytorch to compute convolutions for a batch of B = 100 images. Compare the execution times."
   ]
  },
  {
   "cell_type": "code",
   "execution_count": 22,
   "metadata": {
    "colab": {
     "base_uri": "https://localhost:8080/"
    },
    "id": "NPlK4T8mtkYP",
    "outputId": "4fa0f1ea-c8cd-4154-bfdb-89ddd6a1e48b"
   },
   "outputs": [
    {
     "name": "stdout",
     "output_type": "stream",
     "text": [
      "PyTorch's Convolution took: 0.007 seconds\n",
      "Manual Convolution took: 0.562 seconds\n",
      "Manual convolution and torch convolution output the same tensor: True\n"
     ]
    }
   ],
   "source": [
    "# Grab batch of 100 images from the dataset\n",
    "imgs = next(iter(train_loader))[0][:100]\n",
    "\n",
    "# Perform convolution with function from torch\n",
    "K = 8\n",
    "conv = nn.Conv2d(in_channels = 1, out_channels = 1, kernel_size = 2*K+1, padding = 'same', bias = False)\n",
    "# Time convolution\n",
    "start = time.time()\n",
    "out = conv(imgs)\n",
    "end = time.time()\n",
    "\n",
    "print(f\"PyTorch's Convolution took: {end-start:.3f} seconds\")\n",
    "\n",
    "# Perform convolution with your function\n",
    "filterbank = FilterBank(num_filters = 1, K = 8)\n",
    "# Initialize filters with the torch initialization\n",
    "filterbank.filters = conv.weight.squeeze(0)\n",
    "\n",
    "start = time.time()\n",
    "out_manual = filterbank(imgs.squeeze())\n",
    "end = time.time()\n",
    "print(f\"Manual Convolution took: {end-start:.3f} seconds\")\n",
    "\n",
    "\n",
    "# Check that outputs match\n",
    "print(f\"Manual convolution and torch convolution output the same tensor: {torch.allclose(out_manual, out, atol = 1e-5)}\")"
   ]
  },
  {
   "cell_type": "markdown",
   "metadata": {},
   "source": [
    "In solving Task 4 you must have noticed that the Pytorch code is much faster. This is because the Pytorch convolution function is just a wrapper that calls a compiled subroutine written in C. If this were the 1990’s we would say that “true men code in C,” which was indeed a quip that was common in the 1990’s. Lucky for us all we live in a time when we do not require men to be tough, nor women to stay away from engineering, nor persons to define themselves as either men or women. So let us just remember that industry level data sciences still relies on low level languages. Python and Pytorch are prototyping languages. We will use the Pytorch convolution function in the remainder of Lab 4."
   ]
  },
  {
   "cell_type": "markdown",
   "metadata": {
    "id": "xM4o4obQl-gY"
   },
   "source": [
    "## Task 5 \n",
    "\n",
    "Create a filterbank class. In this class the filter coefficients $H_g$ the matrix A are attributes. The class has a method that takes an image X as an input and implements the filterbank equations in (17) - (19). The method returns the vector of scores x2 as an output."
   ]
  },
  {
   "cell_type": "code",
   "execution_count": 23,
   "metadata": {
    "id": "6tOboQCAaKt_"
   },
   "outputs": [],
   "source": [
    "class FilterBank(nn.Module):\n",
    "    def __init__(self, num_filters, K):\n",
    "        super(Classifier, self).__init__()\n",
    "\n",
    "        # In the MNIST dataset each class corresponds to a digit.\n",
    "        num_classes = 10\n",
    "        # Filter Bank with num_filter filters and num_taps taps.\n",
    "        self.conv1 = nn.Conv2d(in_channels = 1, out_channels = num_filters, kernel_size = 2*K+1, stride = 1, padding = 'same')\n",
    "        # Linear layer.\n",
    "        self.linear = nn.Linear(num_filters, num_classes)\n",
    "\n",
    "    def forward(self, x):\n",
    "        # Pass through filter bank\n",
    "        x = self.conv1(x)\n",
    "        # Compute energy of each output feature\n",
    "        x = torch.sum( x**2, dim=(2,3) )\n",
    "        # Linear map between feature energies and class scores\n",
    "        x = self.linear(x)\n",
    "        return x"
   ]
  },
  {
   "cell_type": "markdown",
   "metadata": {},
   "source": [
    "## Task 6\n",
    "\n",
    "Task 6 Split the handwritten digit dataset into train and test sets. Instantiate the class of Task 5 to train a filterbank that classifies images to the corresponding digit class. Use the crossentropy loss as the optimization\n",
    "objective."
   ]
  },
  {
   "cell_type": "code",
   "execution_count": 24,
   "metadata": {
    "id": "TAbWi1t6aKwe"
   },
   "outputs": [],
   "source": [
    "# Instatiate model\n",
    "model = FilterBank(num_filters = 30, K = 1)\n",
    "# Instantiate SGD optimizer\n",
    "optimizer = optim.SGD(model.parameters(), lr=0.0001)\n",
    "# Instantiate cross entropy loss\n",
    "cross_entropy = nn.CrossEntropyLoss()"
   ]
  },
  {
   "cell_type": "markdown",
   "metadata": {
    "id": "e49kZcQql_7g"
   },
   "source": [
    "## Train"
   ]
  },
  {
   "cell_type": "code",
   "execution_count": 25,
   "metadata": {
    "colab": {
     "base_uri": "https://localhost:8080/"
    },
    "id": "IpnKthqzaKzF",
    "outputId": "6fea0135-9c91-4614-bc85-f1f0814e1687"
   },
   "outputs": [
    {
     "name": "stdout",
     "output_type": "stream",
     "text": [
      "Epoch: 0 \t Loss: 15.814 \t Acc: 24.97\n",
      "Epoch: 1 \t Loss: 2.662 \t Acc: 39.03\n",
      "Epoch: 2 \t Loss: 1.940 \t Acc: 44.40\n",
      "Epoch: 3 \t Loss: 1.679 \t Acc: 47.23\n",
      "Epoch: 4 \t Loss: 1.538 \t Acc: 49.05\n",
      "Epoch: 5 \t Loss: 1.462 \t Acc: 50.17\n",
      "Epoch: 6 \t Loss: 1.408 \t Acc: 51.08\n",
      "Epoch: 7 \t Loss: 1.370 \t Acc: 51.81\n",
      "Epoch: 8 \t Loss: 1.342 \t Acc: 52.29\n",
      "Epoch: 9 \t Loss: 1.321 \t Acc: 52.78\n"
     ]
    }
   ],
   "source": [
    "\n",
    "# Set model in training mode\n",
    "model.train()\n",
    "\n",
    "loss_evol = []\n",
    "\n",
    "# Number of through the entire training set\n",
    "num_epochs = 10\n",
    "\n",
    "for epoch in range(num_epochs):\n",
    "    loss_epoch = 0.\n",
    "    acc_epoch = 0.\n",
    "\n",
    "    for data, target in train_loader:\n",
    "\n",
    "        # Compute batch predictions\n",
    "        output = model(data)\n",
    "        # Compute loss\n",
    "        loss = cross_entropy(output, target)\n",
    "        # Clear gradients of previous batch\n",
    "        optimizer.zero_grad()\n",
    "        # Compute gradients of loss w respect to current params\n",
    "        loss.backward()\n",
    "        # Update params using SGD\n",
    "        optimizer.step()\n",
    "\n",
    "        # Accumulate batch losses\n",
    "        loss_epoch += loss.item()\n",
    "\n",
    "        # Accumulate correct predictions, highest score is predicted class.\n",
    "        pred = output.argmax(dim=-1)\n",
    "        acc_epoch += torch.sum(pred == target)\n",
    "\n",
    "    loss_evol.append(loss_epoch/len(train_loader))\n",
    "    # Print metrics \n",
    "    print(f\"Epoch: {epoch} \\t Loss: {loss_epoch/len(train_loader):.3f} \\t Acc: {acc_epoch*100/len(train_loader.dataset):.2f}\")"
   ]
  },
  {
   "cell_type": "code",
   "execution_count": 26,
   "metadata": {
    "colab": {
     "base_uri": "https://localhost:8080/",
     "height": 313
    },
    "id": "-PNx-u9lmFU3",
    "outputId": "b6e80260-2874-42eb-b6b0-69250c603d01"
   },
   "outputs": [
    {
     "data": {
      "text/plain": [
       "Text(0.5, 0, 'Epoch')"
      ]
     },
     "execution_count": 26,
     "metadata": {},
     "output_type": "execute_result"
    },
    {
     "data": {
      "image/png": "[encoded data removed]",
      "text/plain": [
       "<Figure size 640x480 with 1 Axes>"
      ]
     },
     "metadata": {},
     "output_type": "display_data"
    }
   ],
   "source": [
    "plt.plot(loss_evol)\n",
    "plt.title(\"Cross entropy evolution\")\n",
    "plt.xlabel(\"Epoch\")"
   ]
  },
  {
   "cell_type": "markdown",
   "metadata": {
    "id": "fY1TN_n0mBgk"
   },
   "source": [
    "## Test"
   ]
  },
  {
   "cell_type": "code",
   "execution_count": 27,
   "metadata": {
    "colab": {
     "base_uri": "https://localhost:8080/"
    },
    "id": "CO5nZCo0aK1_",
    "outputId": "1b90b193-a325-4118-855c-4b51b907b8ce"
   },
   "outputs": [
    {
     "name": "stdout",
     "output_type": "stream",
     "text": [
      "Test loss: 1.292 \t Test acc: 51.83\n"
     ]
    }
   ],
   "source": [
    "model.eval()\n",
    "loss_test = 0.\n",
    "acc_test = 0.\n",
    "with torch.no_grad():\n",
    "    for data, target in test_loader:\n",
    "\n",
    "        # Compute batch predictions\n",
    "        output = model(data)\n",
    "        # Compute loss\n",
    "        loss = cross_entropy(output, target)\n",
    "\n",
    "        # Accumulate batch losses\n",
    "        loss_test += loss.item()\n",
    "\n",
    "        # Accumulate correct predictions, highest score is predicted class.\n",
    "        pred = output.argmax(dim=-1)\n",
    "        acc_test += torch.sum(pred == target)\n",
    "\n",
    "    print(f\"Test loss: {loss_test/len(test_loader):.3f} \\t Test acc: {acc_test*100/len(test_loader.dataset):.2f}\")"
   ]
  }
 ],
 "metadata": {
  "colab": {
   "provenance": []
  },
  "gpuClass": "standard",
  "kernelspec": {
   "display_name": "Python 3 (ipykernel)",
   "language": "python",
   "name": "python3"
  },
  "language_info": {
   "codemirror_mode": {
    "name": "ipython",
    "version": 3
   },
   "file_extension": ".py",
   "mimetype": "text/x-python",
   "name": "python",
   "nbconvert_exporter": "python",
   "pygments_lexer": "ipython3",
   "version": "3.8.16"
  },
  "widgets": {
   "application/vnd.jupyter.widget-state+json": {
    "0786062f242a4893818635909fdeeb97": {
     "model_module": "@jupyter-widgets/base",
     "model_module_version": "1.2.0",
     "model_name": "LayoutModel",
     "state": {
      "_model_module": "@jupyter-widgets/base",
      "_model_module_version": "1.2.0",
      "_model_name": "LayoutModel",
      "_view_count": null,
      "_view_module": "@jupyter-widgets/base",
      "_view_module_version": "1.2.0",
      "_view_name": "LayoutView",
      "align_content": null,
      "align_items": null,
      "align_self": null,
      "border": null,
      "bottom": null,
      "display": null,
      "flex": null,
      "flex_flow": null,
      "grid_area": null,
      "grid_auto_columns": null,
      "grid_auto_flow": null,
      "grid_auto_rows": null,
      "grid_column": null,
      "grid_gap": null,
      "grid_row": null,
      "grid_template_areas": null,
      "grid_template_columns": null,
      "grid_template_rows": null,
      "height": null,
      "justify_content": null,
      "justify_items": null,
      "left": null,
      "margin": null,
      "max_height": null,
      "max_width": null,
      "min_height": null,
      "min_width": null,
      "object_fit": null,
      "object_position": null,
      "order": null,
      "overflow": null,
      "overflow_x": null,
      "overflow_y": null,
      "padding": null,
      "right": null,
      "top": null,
      "visibility": null,
      "width": null
     }
    },
    "09871d476f1248c58e2c3d6fbb446558": {
     "model_module": "@jupyter-widgets/base",
     "model_module_version": "1.2.0",
     "model_name": "LayoutModel",
     "state": {
      "_model_module": "@jupyter-widgets/base",
      "_model_module_version": "1.2.0",
      "_model_name": "LayoutModel",
      "_view_count": null,
      "_view_module": "@jupyter-widgets/base",
      "_view_module_version": "1.2.0",
      "_view_name": "LayoutView",
      "align_content": null,
      "align_items": null,
      "align_self": null,
      "border": null,
      "bottom": null,
      "display": null,
      "flex": null,
      "flex_flow": null,
      "grid_area": null,
      "grid_auto_columns": null,
      "grid_auto_flow": null,
      "grid_auto_rows": null,
      "grid_column": null,
      "grid_gap": null,
      "grid_row": null,
      "grid_template_areas": null,
      "grid_template_columns": null,
      "grid_template_rows": null,
      "height": null,
      "justify_content": null,
      "justify_items": null,
      "left": null,
      "margin": null,
      "max_height": null,
      "max_width": null,
      "min_height": null,
      "min_width": null,
      "object_fit": null,
      "object_position": null,
      "order": null,
      "overflow": null,
      "overflow_x": null,
      "overflow_y": null,
      "padding": null,
      "right": null,
      "top": null,
      "visibility": null,
      "width": null
     }
    },
    "09e9658e40c745efac2012f74b15106a": {
     "model_module": "@jupyter-widgets/controls",
     "model_module_version": "1.5.0",
     "model_name": "FloatProgressModel",
     "state": {
      "_dom_classes": [],
      "_model_module": "@jupyter-widgets/controls",
      "_model_module_version": "1.5.0",
      "_model_name": "FloatProgressModel",
      "_view_count": null,
      "_view_module": "@jupyter-widgets/controls",
      "_view_module_version": "1.5.0",
      "_view_name": "ProgressView",
      "bar_style": "success",
      "description": "",
      "description_tooltip": null,
      "layout": "IPY_MODEL_5f668f581aa94c8da5ea64c6cc7b9bcf",
      "max": 1648877,
      "min": 0,
      "orientation": "horizontal",
      "style": "IPY_MODEL_822eb3f65cfe49d9ab17a23b674abda1",
      "value": 1648877
     }
    },
    "0e6a0c9baf72474281741ba9a64ea169": {
     "model_module": "@jupyter-widgets/base",
     "model_module_version": "1.2.0",
     "model_name": "LayoutModel",
     "state": {
      "_model_module": "@jupyter-widgets/base",
      "_model_module_version": "1.2.0",
      "_model_name": "LayoutModel",
      "_view_count": null,
      "_view_module": "@jupyter-widgets/base",
      "_view_module_version": "1.2.0",
      "_view_name": "LayoutView",
      "align_content": null,
      "align_items": null,
      "align_self": null,
      "border": null,
      "bottom": null,
      "display": null,
      "flex": null,
      "flex_flow": null,
      "grid_area": null,
      "grid_auto_columns": null,
      "grid_auto_flow": null,
      "grid_auto_rows": null,
      "grid_column": null,
      "grid_gap": null,
      "grid_row": null,
      "grid_template_areas": null,
      "grid_template_columns": null,
      "grid_template_rows": null,
      "height": null,
      "justify_content": null,
      "justify_items": null,
      "left": null,
      "margin": null,
      "max_height": null,
      "max_width": null,
      "min_height": null,
      "min_width": null,
      "object_fit": null,
      "object_position": null,
      "order": null,
      "overflow": null,
      "overflow_x": null,
      "overflow_y": null,
      "padding": null,
      "right": null,
      "top": null,
      "visibility": null,
      "width": null
     }
    },
    "0f9aaab19fd9421facb73d49905a5691": {
     "model_module": "@jupyter-widgets/controls",
     "model_module_version": "1.5.0",
     "model_name": "DescriptionStyleModel",
     "state": {
      "_model_module": "@jupyter-widgets/controls",
      "_model_module_version": "1.5.0",
      "_model_name": "DescriptionStyleModel",
      "_view_count": null,
      "_view_module": "@jupyter-widgets/base",
      "_view_module_version": "1.2.0",
      "_view_name": "StyleView",
      "description_width": ""
     }
    },
    "16e5147d7f3147748dd871b5f6dc8604": {
     "model_module": "@jupyter-widgets/controls",
     "model_module_version": "1.5.0",
     "model_name": "DescriptionStyleModel",
     "state": {
      "_model_module": "@jupyter-widgets/controls",
      "_model_module_version": "1.5.0",
      "_model_name": "DescriptionStyleModel",
      "_view_count": null,
      "_view_module": "@jupyter-widgets/base",
      "_view_module_version": "1.2.0",
      "_view_name": "StyleView",
      "description_width": ""
     }
    },
    "17a6e1b6f0644c9095fb97adef75c5aa": {
     "model_module": "@jupyter-widgets/controls",
     "model_module_version": "1.5.0",
     "model_name": "DescriptionStyleModel",
     "state": {
      "_model_module": "@jupyter-widgets/controls",
      "_model_module_version": "1.5.0",
      "_model_name": "DescriptionStyleModel",
      "_view_count": null,
      "_view_module": "@jupyter-widgets/base",
      "_view_module_version": "1.2.0",
      "_view_name": "StyleView",
      "description_width": ""
     }
    },
    "17c32654cbc2444da60e755fc0d8c5c4": {
     "model_module": "@jupyter-widgets/base",
     "model_module_version": "1.2.0",
     "model_name": "LayoutModel",
     "state": {
      "_model_module": "@jupyter-widgets/base",
      "_model_module_version": "1.2.0",
      "_model_name": "LayoutModel",
      "_view_count": null,
      "_view_module": "@jupyter-widgets/base",
      "_view_module_version": "1.2.0",
      "_view_name": "LayoutView",
      "align_content": null,
      "align_items": null,
      "align_self": null,
      "border": null,
      "bottom": null,
      "display": null,
      "flex": null,
      "flex_flow": null,
      "grid_area": null,
      "grid_auto_columns": null,
      "grid_auto_flow": null,
      "grid_auto_rows": null,
      "grid_column": null,
      "grid_gap": null,
      "grid_row": null,
      "grid_template_areas": null,
      "grid_template_columns": null,
      "grid_template_rows": null,
      "height": null,
      "justify_content": null,
      "justify_items": null,
      "left": null,
      "margin": null,
      "max_height": null,
      "max_width": null,
      "min_height": null,
      "min_width": null,
      "object_fit": null,
      "object_position": null,
      "order": null,
      "overflow": null,
      "overflow_x": null,
      "overflow_y": null,
      "padding": null,
      "right": null,
      "top": null,
      "visibility": null,
      "width": null
     }
    },
    "235892b2c34a4971b07f4f78943c7983": {
     "model_module": "@jupyter-widgets/controls",
     "model_module_version": "1.5.0",
     "model_name": "HBoxModel",
     "state": {
      "_dom_classes": [],
      "_model_module": "@jupyter-widgets/controls",
      "_model_module_version": "1.5.0",
      "_model_name": "HBoxModel",
      "_view_count": null,
      "_view_module": "@jupyter-widgets/controls",
      "_view_module_version": "1.5.0",
      "_view_name": "HBoxView",
      "box_style": "",
      "children": [
       "IPY_MODEL_d6b2d9c830574fc59e4796923e743186",
       "IPY_MODEL_09e9658e40c745efac2012f74b15106a",
       "IPY_MODEL_63fa6f01d5704c37a1c34b07fcd30177"
      ],
      "layout": "IPY_MODEL_2d24fd74856943878437dbb73fa99348"
     }
    },
    "2d24fd74856943878437dbb73fa99348": {
     "model_module": "@jupyter-widgets/base",
     "model_module_version": "1.2.0",
     "model_name": "LayoutModel",
     "state": {
      "_model_module": "@jupyter-widgets/base",
      "_model_module_version": "1.2.0",
      "_model_name": "LayoutModel",
      "_view_count": null,
      "_view_module": "@jupyter-widgets/base",
      "_view_module_version": "1.2.0",
      "_view_name": "LayoutView",
      "align_content": null,
      "align_items": null,
      "align_self": null,
      "border": null,
      "bottom": null,
      "display": null,
      "flex": null,
      "flex_flow": null,
      "grid_area": null,
      "grid_auto_columns": null,
      "grid_auto_flow": null,
      "grid_auto_rows": null,
      "grid_column": null,
      "grid_gap": null,
      "grid_row": null,
      "grid_template_areas": null,
      "grid_template_columns": null,
      "grid_template_rows": null,
      "height": null,
      "justify_content": null,
      "justify_items": null,
      "left": null,
      "margin": null,
      "max_height": null,
      "max_width": null,
      "min_height": null,
      "min_width": null,
      "object_fit": null,
      "object_position": null,
      "order": null,
      "overflow": null,
      "overflow_x": null,
      "overflow_y": null,
      "padding": null,
      "right": null,
      "top": null,
      "visibility": null,
      "width": null
     }
    },
    "32b7993af93a46789fdcd5efaccb1baa": {
     "model_module": "@jupyter-widgets/controls",
     "model_module_version": "1.5.0",
     "model_name": "HTMLModel",
     "state": {
      "_dom_classes": [],
      "_model_module": "@jupyter-widgets/controls",
      "_model_module_version": "1.5.0",
      "_model_name": "HTMLModel",
      "_view_count": null,
      "_view_module": "@jupyter-widgets/controls",
      "_view_module_version": "1.5.0",
      "_view_name": "HTMLView",
      "description": "",
      "description_tooltip": null,
      "layout": "IPY_MODEL_09871d476f1248c58e2c3d6fbb446558",
      "placeholder": "​",
      "style": "IPY_MODEL_5bba2d0a64bd45f89b447d07d1d90d53",
      "value": " 28881/28881 [00:00&lt;00:00, 689650.29it/s]"
     }
    },
    "33a30288ce7c4bceb1ff8f39a5d5f716": {
     "model_module": "@jupyter-widgets/controls",
     "model_module_version": "1.5.0",
     "model_name": "HBoxModel",
     "state": {
      "_dom_classes": [],
      "_model_module": "@jupyter-widgets/controls",
      "_model_module_version": "1.5.0",
      "_model_name": "HBoxModel",
      "_view_count": null,
      "_view_module": "@jupyter-widgets/controls",
      "_view_module_version": "1.5.0",
      "_view_name": "HBoxView",
      "box_style": "",
      "children": [
       "IPY_MODEL_9c45228383c4469a90fc3a7b3a7ff590",
       "IPY_MODEL_fc861e4374f54c22ad691ba66ea0e583",
       "IPY_MODEL_32b7993af93a46789fdcd5efaccb1baa"
      ],
      "layout": "IPY_MODEL_a6d58bdc0d9649e288b390bb106ebaab"
     }
    },
    "3435394c4673475c9afdb85dec64263c": {
     "model_module": "@jupyter-widgets/controls",
     "model_module_version": "1.5.0",
     "model_name": "ProgressStyleModel",
     "state": {
      "_model_module": "@jupyter-widgets/controls",
      "_model_module_version": "1.5.0",
      "_model_name": "ProgressStyleModel",
      "_view_count": null,
      "_view_module": "@jupyter-widgets/base",
      "_view_module_version": "1.2.0",
      "_view_name": "StyleView",
      "bar_color": null,
      "description_width": ""
     }
    },
    "3897fb8425a94619a0c20583f1febb92": {
     "model_module": "@jupyter-widgets/controls",
     "model_module_version": "1.5.0",
     "model_name": "HBoxModel",
     "state": {
      "_dom_classes": [],
      "_model_module": "@jupyter-widgets/controls",
      "_model_module_version": "1.5.0",
      "_model_name": "HBoxModel",
      "_view_count": null,
      "_view_module": "@jupyter-widgets/controls",
      "_view_module_version": "1.5.0",
      "_view_name": "HBoxView",
      "box_style": "",
      "children": [
       "IPY_MODEL_d314cb8c97e94702aac1c306cf244b37",
       "IPY_MODEL_ec2b8d286f8d44afa1327ef566b4105c",
       "IPY_MODEL_70bd02a001be462e8626fcac21786a18"
      ],
      "layout": "IPY_MODEL_e48d64463ce54b32826e8c621353bff0"
     }
    },
    "3d038b8f079641ed9c620c1e1e3fa168": {
     "model_module": "@jupyter-widgets/base",
     "model_module_version": "1.2.0",
     "model_name": "LayoutModel",
     "state": {
      "_model_module": "@jupyter-widgets/base",
      "_model_module_version": "1.2.0",
      "_model_name": "LayoutModel",
      "_view_count": null,
      "_view_module": "@jupyter-widgets/base",
      "_view_module_version": "1.2.0",
      "_view_name": "LayoutView",
      "align_content": null,
      "align_items": null,
      "align_self": null,
      "border": null,
      "bottom": null,
      "display": null,
      "flex": null,
      "flex_flow": null,
      "grid_area": null,
      "grid_auto_columns": null,
      "grid_auto_flow": null,
      "grid_auto_rows": null,
      "grid_column": null,
      "grid_gap": null,
      "grid_row": null,
      "grid_template_areas": null,
      "grid_template_columns": null,
      "grid_template_rows": null,
      "height": null,
      "justify_content": null,
      "justify_items": null,
      "left": null,
      "margin": null,
      "max_height": null,
      "max_width": null,
      "min_height": null,
      "min_width": null,
      "object_fit": null,
      "object_position": null,
      "order": null,
      "overflow": null,
      "overflow_x": null,
      "overflow_y": null,
      "padding": null,
      "right": null,
      "top": null,
      "visibility": null,
      "width": null
     }
    },
    "4db7ce285e724a6d9cd0b638c7ced711": {
     "model_module": "@jupyter-widgets/base",
     "model_module_version": "1.2.0",
     "model_name": "LayoutModel",
     "state": {
      "_model_module": "@jupyter-widgets/base",
      "_model_module_version": "1.2.0",
      "_model_name": "LayoutModel",
      "_view_count": null,
      "_view_module": "@jupyter-widgets/base",
      "_view_module_version": "1.2.0",
      "_view_name": "LayoutView",
      "align_content": null,
      "align_items": null,
      "align_self": null,
      "border": null,
      "bottom": null,
      "display": null,
      "flex": null,
      "flex_flow": null,
      "grid_area": null,
      "grid_auto_columns": null,
      "grid_auto_flow": null,
      "grid_auto_rows": null,
      "grid_column": null,
      "grid_gap": null,
      "grid_row": null,
      "grid_template_areas": null,
      "grid_template_columns": null,
      "grid_template_rows": null,
      "height": null,
      "justify_content": null,
      "justify_items": null,
      "left": null,
      "margin": null,
      "max_height": null,
      "max_width": null,
      "min_height": null,
      "min_width": null,
      "object_fit": null,
      "object_position": null,
      "order": null,
      "overflow": null,
      "overflow_x": null,
      "overflow_y": null,
      "padding": null,
      "right": null,
      "top": null,
      "visibility": null,
      "width": null
     }
    },
    "5bba2d0a64bd45f89b447d07d1d90d53": {
     "model_module": "@jupyter-widgets/controls",
     "model_module_version": "1.5.0",
     "model_name": "DescriptionStyleModel",
     "state": {
      "_model_module": "@jupyter-widgets/controls",
      "_model_module_version": "1.5.0",
      "_model_name": "DescriptionStyleModel",
      "_view_count": null,
      "_view_module": "@jupyter-widgets/base",
      "_view_module_version": "1.2.0",
      "_view_name": "StyleView",
      "description_width": ""
     }
    },
    "5efad5dfd5184b7aaf30e1d5aacf0a7c": {
     "model_module": "@jupyter-widgets/controls",
     "model_module_version": "1.5.0",
     "model_name": "ProgressStyleModel",
     "state": {
      "_model_module": "@jupyter-widgets/controls",
      "_model_module_version": "1.5.0",
      "_model_name": "ProgressStyleModel",
      "_view_count": null,
      "_view_module": "@jupyter-widgets/base",
      "_view_module_version": "1.2.0",
      "_view_name": "StyleView",
      "bar_color": null,
      "description_width": ""
     }
    },
    "5f0b66a596524d9a94bf9fc4d982df4f": {
     "model_module": "@jupyter-widgets/controls",
     "model_module_version": "1.5.0",
     "model_name": "HBoxModel",
     "state": {
      "_dom_classes": [],
      "_model_module": "@jupyter-widgets/controls",
      "_model_module_version": "1.5.0",
      "_model_name": "HBoxModel",
      "_view_count": null,
      "_view_module": "@jupyter-widgets/controls",
      "_view_module_version": "1.5.0",
      "_view_name": "HBoxView",
      "box_style": "",
      "children": [
       "IPY_MODEL_d725fe8684044407967132263d1ccd3f",
       "IPY_MODEL_6035fa599c0a4c5cbcbada2b9c099906",
       "IPY_MODEL_ec470e78d66b48dcaaebfdc2ea3bca2e"
      ],
      "layout": "IPY_MODEL_dd53fbec49bf459aa4e1bedd90a7c485"
     }
    },
    "5f668f581aa94c8da5ea64c6cc7b9bcf": {
     "model_module": "@jupyter-widgets/base",
     "model_module_version": "1.2.0",
     "model_name": "LayoutModel",
     "state": {
      "_model_module": "@jupyter-widgets/base",
      "_model_module_version": "1.2.0",
      "_model_name": "LayoutModel",
      "_view_count": null,
      "_view_module": "@jupyter-widgets/base",
      "_view_module_version": "1.2.0",
      "_view_name": "LayoutView",
      "align_content": null,
      "align_items": null,
      "align_self": null,
      "border": null,
      "bottom": null,
      "display": null,
      "flex": null,
      "flex_flow": null,
      "grid_area": null,
      "grid_auto_columns": null,
      "grid_auto_flow": null,
      "grid_auto_rows": null,
      "grid_column": null,
      "grid_gap": null,
      "grid_row": null,
      "grid_template_areas": null,
      "grid_template_columns": null,
      "grid_template_rows": null,
      "height": null,
      "justify_content": null,
      "justify_items": null,
      "left": null,
      "margin": null,
      "max_height": null,
      "max_width": null,
      "min_height": null,
      "min_width": null,
      "object_fit": null,
      "object_position": null,
      "order": null,
      "overflow": null,
      "overflow_x": null,
      "overflow_y": null,
      "padding": null,
      "right": null,
      "top": null,
      "visibility": null,
      "width": null
     }
    },
    "6035fa599c0a4c5cbcbada2b9c099906": {
     "model_module": "@jupyter-widgets/controls",
     "model_module_version": "1.5.0",
     "model_name": "FloatProgressModel",
     "state": {
      "_dom_classes": [],
      "_model_module": "@jupyter-widgets/controls",
      "_model_module_version": "1.5.0",
      "_model_name": "FloatProgressModel",
      "_view_count": null,
      "_view_module": "@jupyter-widgets/controls",
      "_view_module_version": "1.5.0",
      "_view_name": "ProgressView",
      "bar_style": "success",
      "description": "",
      "description_tooltip": null,
      "layout": "IPY_MODEL_0786062f242a4893818635909fdeeb97",
      "max": 9912422,
      "min": 0,
      "orientation": "horizontal",
      "style": "IPY_MODEL_3435394c4673475c9afdb85dec64263c",
      "value": 9912422
     }
    },
    "63fa6f01d5704c37a1c34b07fcd30177": {
     "model_module": "@jupyter-widgets/controls",
     "model_module_version": "1.5.0",
     "model_name": "HTMLModel",
     "state": {
      "_dom_classes": [],
      "_model_module": "@jupyter-widgets/controls",
      "_model_module_version": "1.5.0",
      "_model_name": "HTMLModel",
      "_view_count": null,
      "_view_module": "@jupyter-widgets/controls",
      "_view_module_version": "1.5.0",
      "_view_name": "HTMLView",
      "description": "",
      "description_tooltip": null,
      "layout": "IPY_MODEL_17c32654cbc2444da60e755fc0d8c5c4",
      "placeholder": "​",
      "style": "IPY_MODEL_16e5147d7f3147748dd871b5f6dc8604",
      "value": " 1648877/1648877 [00:00&lt;00:00, 18101158.16it/s]"
     }
    },
    "70bd02a001be462e8626fcac21786a18": {
     "model_module": "@jupyter-widgets/controls",
     "model_module_version": "1.5.0",
     "model_name": "HTMLModel",
     "state": {
      "_dom_classes": [],
      "_model_module": "@jupyter-widgets/controls",
      "_model_module_version": "1.5.0",
      "_model_name": "HTMLModel",
      "_view_count": null,
      "_view_module": "@jupyter-widgets/controls",
      "_view_module_version": "1.5.0",
      "_view_name": "HTMLView",
      "description": "",
      "description_tooltip": null,
      "layout": "IPY_MODEL_c94997c37d714ef7bc2ad2861b4a42fd",
      "placeholder": "​",
      "style": "IPY_MODEL_a43d99041e684ee4b7cd6f8fd27a42a0",
      "value": " 4542/4542 [00:00&lt;00:00, 243419.91it/s]"
     }
    },
    "7f50ac0d39504b62864eb03efa6bccf2": {
     "model_module": "@jupyter-widgets/controls",
     "model_module_version": "1.5.0",
     "model_name": "ProgressStyleModel",
     "state": {
      "_model_module": "@jupyter-widgets/controls",
      "_model_module_version": "1.5.0",
      "_model_name": "ProgressStyleModel",
      "_view_count": null,
      "_view_module": "@jupyter-widgets/base",
      "_view_module_version": "1.2.0",
      "_view_name": "StyleView",
      "bar_color": null,
      "description_width": ""
     }
    },
    "7f982a8b26714a19bc72b2f465017fee": {
     "model_module": "@jupyter-widgets/base",
     "model_module_version": "1.2.0",
     "model_name": "LayoutModel",
     "state": {
      "_model_module": "@jupyter-widgets/base",
      "_model_module_version": "1.2.0",
      "_model_name": "LayoutModel",
      "_view_count": null,
      "_view_module": "@jupyter-widgets/base",
      "_view_module_version": "1.2.0",
      "_view_name": "LayoutView",
      "align_content": null,
      "align_items": null,
      "align_self": null,
      "border": null,
      "bottom": null,
      "display": null,
      "flex": null,
      "flex_flow": null,
      "grid_area": null,
      "grid_auto_columns": null,
      "grid_auto_flow": null,
      "grid_auto_rows": null,
      "grid_column": null,
      "grid_gap": null,
      "grid_row": null,
      "grid_template_areas": null,
      "grid_template_columns": null,
      "grid_template_rows": null,
      "height": null,
      "justify_content": null,
      "justify_items": null,
      "left": null,
      "margin": null,
      "max_height": null,
      "max_width": null,
      "min_height": null,
      "min_width": null,
      "object_fit": null,
      "object_position": null,
      "order": null,
      "overflow": null,
      "overflow_x": null,
      "overflow_y": null,
      "padding": null,
      "right": null,
      "top": null,
      "visibility": null,
      "width": null
     }
    },
    "822eb3f65cfe49d9ab17a23b674abda1": {
     "model_module": "@jupyter-widgets/controls",
     "model_module_version": "1.5.0",
     "model_name": "ProgressStyleModel",
     "state": {
      "_model_module": "@jupyter-widgets/controls",
      "_model_module_version": "1.5.0",
      "_model_name": "ProgressStyleModel",
      "_view_count": null,
      "_view_module": "@jupyter-widgets/base",
      "_view_module_version": "1.2.0",
      "_view_name": "StyleView",
      "bar_color": null,
      "description_width": ""
     }
    },
    "8ef7cdc48078428c8e2bd17ed7050dfd": {
     "model_module": "@jupyter-widgets/base",
     "model_module_version": "1.2.0",
     "model_name": "LayoutModel",
     "state": {
      "_model_module": "@jupyter-widgets/base",
      "_model_module_version": "1.2.0",
      "_model_name": "LayoutModel",
      "_view_count": null,
      "_view_module": "@jupyter-widgets/base",
      "_view_module_version": "1.2.0",
      "_view_name": "LayoutView",
      "align_content": null,
      "align_items": null,
      "align_self": null,
      "border": null,
      "bottom": null,
      "display": null,
      "flex": null,
      "flex_flow": null,
      "grid_area": null,
      "grid_auto_columns": null,
      "grid_auto_flow": null,
      "grid_auto_rows": null,
      "grid_column": null,
      "grid_gap": null,
      "grid_row": null,
      "grid_template_areas": null,
      "grid_template_columns": null,
      "grid_template_rows": null,
      "height": null,
      "justify_content": null,
      "justify_items": null,
      "left": null,
      "margin": null,
      "max_height": null,
      "max_width": null,
      "min_height": null,
      "min_width": null,
      "object_fit": null,
      "object_position": null,
      "order": null,
      "overflow": null,
      "overflow_x": null,
      "overflow_y": null,
      "padding": null,
      "right": null,
      "top": null,
      "visibility": null,
      "width": null
     }
    },
    "909f1d379a7340e5a7b6e69ae396a26a": {
     "model_module": "@jupyter-widgets/controls",
     "model_module_version": "1.5.0",
     "model_name": "DescriptionStyleModel",
     "state": {
      "_model_module": "@jupyter-widgets/controls",
      "_model_module_version": "1.5.0",
      "_model_name": "DescriptionStyleModel",
      "_view_count": null,
      "_view_module": "@jupyter-widgets/base",
      "_view_module_version": "1.2.0",
      "_view_name": "StyleView",
      "description_width": ""
     }
    },
    "9c45228383c4469a90fc3a7b3a7ff590": {
     "model_module": "@jupyter-widgets/controls",
     "model_module_version": "1.5.0",
     "model_name": "HTMLModel",
     "state": {
      "_dom_classes": [],
      "_model_module": "@jupyter-widgets/controls",
      "_model_module_version": "1.5.0",
      "_model_name": "HTMLModel",
      "_view_count": null,
      "_view_module": "@jupyter-widgets/controls",
      "_view_module_version": "1.5.0",
      "_view_name": "HTMLView",
      "description": "",
      "description_tooltip": null,
      "layout": "IPY_MODEL_7f982a8b26714a19bc72b2f465017fee",
      "placeholder": "​",
      "style": "IPY_MODEL_0f9aaab19fd9421facb73d49905a5691",
      "value": "100%"
     }
    },
    "9d7091aa6c434ad09a5447f7d1c50f54": {
     "model_module": "@jupyter-widgets/controls",
     "model_module_version": "1.5.0",
     "model_name": "DescriptionStyleModel",
     "state": {
      "_model_module": "@jupyter-widgets/controls",
      "_model_module_version": "1.5.0",
      "_model_name": "DescriptionStyleModel",
      "_view_count": null,
      "_view_module": "@jupyter-widgets/base",
      "_view_module_version": "1.2.0",
      "_view_name": "StyleView",
      "description_width": ""
     }
    },
    "a43d99041e684ee4b7cd6f8fd27a42a0": {
     "model_module": "@jupyter-widgets/controls",
     "model_module_version": "1.5.0",
     "model_name": "DescriptionStyleModel",
     "state": {
      "_model_module": "@jupyter-widgets/controls",
      "_model_module_version": "1.5.0",
      "_model_name": "DescriptionStyleModel",
      "_view_count": null,
      "_view_module": "@jupyter-widgets/base",
      "_view_module_version": "1.2.0",
      "_view_name": "StyleView",
      "description_width": ""
     }
    },
    "a6d58bdc0d9649e288b390bb106ebaab": {
     "model_module": "@jupyter-widgets/base",
     "model_module_version": "1.2.0",
     "model_name": "LayoutModel",
     "state": {
      "_model_module": "@jupyter-widgets/base",
      "_model_module_version": "1.2.0",
      "_model_name": "LayoutModel",
      "_view_count": null,
      "_view_module": "@jupyter-widgets/base",
      "_view_module_version": "1.2.0",
      "_view_name": "LayoutView",
      "align_content": null,
      "align_items": null,
      "align_self": null,
      "border": null,
      "bottom": null,
      "display": null,
      "flex": null,
      "flex_flow": null,
      "grid_area": null,
      "grid_auto_columns": null,
      "grid_auto_flow": null,
      "grid_auto_rows": null,
      "grid_column": null,
      "grid_gap": null,
      "grid_row": null,
      "grid_template_areas": null,
      "grid_template_columns": null,
      "grid_template_rows": null,
      "height": null,
      "justify_content": null,
      "justify_items": null,
      "left": null,
      "margin": null,
      "max_height": null,
      "max_width": null,
      "min_height": null,
      "min_width": null,
      "object_fit": null,
      "object_position": null,
      "order": null,
      "overflow": null,
      "overflow_x": null,
      "overflow_y": null,
      "padding": null,
      "right": null,
      "top": null,
      "visibility": null,
      "width": null
     }
    },
    "c94997c37d714ef7bc2ad2861b4a42fd": {
     "model_module": "@jupyter-widgets/base",
     "model_module_version": "1.2.0",
     "model_name": "LayoutModel",
     "state": {
      "_model_module": "@jupyter-widgets/base",
      "_model_module_version": "1.2.0",
      "_model_name": "LayoutModel",
      "_view_count": null,
      "_view_module": "@jupyter-widgets/base",
      "_view_module_version": "1.2.0",
      "_view_name": "LayoutView",
      "align_content": null,
      "align_items": null,
      "align_self": null,
      "border": null,
      "bottom": null,
      "display": null,
      "flex": null,
      "flex_flow": null,
      "grid_area": null,
      "grid_auto_columns": null,
      "grid_auto_flow": null,
      "grid_auto_rows": null,
      "grid_column": null,
      "grid_gap": null,
      "grid_row": null,
      "grid_template_areas": null,
      "grid_template_columns": null,
      "grid_template_rows": null,
      "height": null,
      "justify_content": null,
      "justify_items": null,
      "left": null,
      "margin": null,
      "max_height": null,
      "max_width": null,
      "min_height": null,
      "min_width": null,
      "object_fit": null,
      "object_position": null,
      "order": null,
      "overflow": null,
      "overflow_x": null,
      "overflow_y": null,
      "padding": null,
      "right": null,
      "top": null,
      "visibility": null,
      "width": null
     }
    },
    "d314cb8c97e94702aac1c306cf244b37": {
     "model_module": "@jupyter-widgets/controls",
     "model_module_version": "1.5.0",
     "model_name": "HTMLModel",
     "state": {
      "_dom_classes": [],
      "_model_module": "@jupyter-widgets/controls",
      "_model_module_version": "1.5.0",
      "_model_name": "HTMLModel",
      "_view_count": null,
      "_view_module": "@jupyter-widgets/controls",
      "_view_module_version": "1.5.0",
      "_view_name": "HTMLView",
      "description": "",
      "description_tooltip": null,
      "layout": "IPY_MODEL_d370857704b24d1eb8124c719956c83f",
      "placeholder": "​",
      "style": "IPY_MODEL_9d7091aa6c434ad09a5447f7d1c50f54",
      "value": "100%"
     }
    },
    "d370857704b24d1eb8124c719956c83f": {
     "model_module": "@jupyter-widgets/base",
     "model_module_version": "1.2.0",
     "model_name": "LayoutModel",
     "state": {
      "_model_module": "@jupyter-widgets/base",
      "_model_module_version": "1.2.0",
      "_model_name": "LayoutModel",
      "_view_count": null,
      "_view_module": "@jupyter-widgets/base",
      "_view_module_version": "1.2.0",
      "_view_name": "LayoutView",
      "align_content": null,
      "align_items": null,
      "align_self": null,
      "border": null,
      "bottom": null,
      "display": null,
      "flex": null,
      "flex_flow": null,
      "grid_area": null,
      "grid_auto_columns": null,
      "grid_auto_flow": null,
      "grid_auto_rows": null,
      "grid_column": null,
      "grid_gap": null,
      "grid_row": null,
      "grid_template_areas": null,
      "grid_template_columns": null,
      "grid_template_rows": null,
      "height": null,
      "justify_content": null,
      "justify_items": null,
      "left": null,
      "margin": null,
      "max_height": null,
      "max_width": null,
      "min_height": null,
      "min_width": null,
      "object_fit": null,
      "object_position": null,
      "order": null,
      "overflow": null,
      "overflow_x": null,
      "overflow_y": null,
      "padding": null,
      "right": null,
      "top": null,
      "visibility": null,
      "width": null
     }
    },
    "d6b2d9c830574fc59e4796923e743186": {
     "model_module": "@jupyter-widgets/controls",
     "model_module_version": "1.5.0",
     "model_name": "HTMLModel",
     "state": {
      "_dom_classes": [],
      "_model_module": "@jupyter-widgets/controls",
      "_model_module_version": "1.5.0",
      "_model_name": "HTMLModel",
      "_view_count": null,
      "_view_module": "@jupyter-widgets/controls",
      "_view_module_version": "1.5.0",
      "_view_name": "HTMLView",
      "description": "",
      "description_tooltip": null,
      "layout": "IPY_MODEL_f56d36f7f86742e0b5d604efe4635f1b",
      "placeholder": "​",
      "style": "IPY_MODEL_909f1d379a7340e5a7b6e69ae396a26a",
      "value": "100%"
     }
    },
    "d725fe8684044407967132263d1ccd3f": {
     "model_module": "@jupyter-widgets/controls",
     "model_module_version": "1.5.0",
     "model_name": "HTMLModel",
     "state": {
      "_dom_classes": [],
      "_model_module": "@jupyter-widgets/controls",
      "_model_module_version": "1.5.0",
      "_model_name": "HTMLModel",
      "_view_count": null,
      "_view_module": "@jupyter-widgets/controls",
      "_view_module_version": "1.5.0",
      "_view_name": "HTMLView",
      "description": "",
      "description_tooltip": null,
      "layout": "IPY_MODEL_8ef7cdc48078428c8e2bd17ed7050dfd",
      "placeholder": "​",
      "style": "IPY_MODEL_17a6e1b6f0644c9095fb97adef75c5aa",
      "value": "100%"
     }
    },
    "dd53fbec49bf459aa4e1bedd90a7c485": {
     "model_module": "@jupyter-widgets/base",
     "model_module_version": "1.2.0",
     "model_name": "LayoutModel",
     "state": {
      "_model_module": "@jupyter-widgets/base",
      "_model_module_version": "1.2.0",
      "_model_name": "LayoutModel",
      "_view_count": null,
      "_view_module": "@jupyter-widgets/base",
      "_view_module_version": "1.2.0",
      "_view_name": "LayoutView",
      "align_content": null,
      "align_items": null,
      "align_self": null,
      "border": null,
      "bottom": null,
      "display": null,
      "flex": null,
      "flex_flow": null,
      "grid_area": null,
      "grid_auto_columns": null,
      "grid_auto_flow": null,
      "grid_auto_rows": null,
      "grid_column": null,
      "grid_gap": null,
      "grid_row": null,
      "grid_template_areas": null,
      "grid_template_columns": null,
      "grid_template_rows": null,
      "height": null,
      "justify_content": null,
      "justify_items": null,
      "left": null,
      "margin": null,
      "max_height": null,
      "max_width": null,
      "min_height": null,
      "min_width": null,
      "object_fit": null,
      "object_position": null,
      "order": null,
      "overflow": null,
      "overflow_x": null,
      "overflow_y": null,
      "padding": null,
      "right": null,
      "top": null,
      "visibility": null,
      "width": null
     }
    },
    "e48d64463ce54b32826e8c621353bff0": {
     "model_module": "@jupyter-widgets/base",
     "model_module_version": "1.2.0",
     "model_name": "LayoutModel",
     "state": {
      "_model_module": "@jupyter-widgets/base",
      "_model_module_version": "1.2.0",
      "_model_name": "LayoutModel",
      "_view_count": null,
      "_view_module": "@jupyter-widgets/base",
      "_view_module_version": "1.2.0",
      "_view_name": "LayoutView",
      "align_content": null,
      "align_items": null,
      "align_self": null,
      "border": null,
      "bottom": null,
      "display": null,
      "flex": null,
      "flex_flow": null,
      "grid_area": null,
      "grid_auto_columns": null,
      "grid_auto_flow": null,
      "grid_auto_rows": null,
      "grid_column": null,
      "grid_gap": null,
      "grid_row": null,
      "grid_template_areas": null,
      "grid_template_columns": null,
      "grid_template_rows": null,
      "height": null,
      "justify_content": null,
      "justify_items": null,
      "left": null,
      "margin": null,
      "max_height": null,
      "max_width": null,
      "min_height": null,
      "min_width": null,
      "object_fit": null,
      "object_position": null,
      "order": null,
      "overflow": null,
      "overflow_x": null,
      "overflow_y": null,
      "padding": null,
      "right": null,
      "top": null,
      "visibility": null,
      "width": null
     }
    },
    "e51cd2cde5b246fa863d30b1447442f4": {
     "model_module": "@jupyter-widgets/controls",
     "model_module_version": "1.5.0",
     "model_name": "DescriptionStyleModel",
     "state": {
      "_model_module": "@jupyter-widgets/controls",
      "_model_module_version": "1.5.0",
      "_model_name": "DescriptionStyleModel",
      "_view_count": null,
      "_view_module": "@jupyter-widgets/base",
      "_view_module_version": "1.2.0",
      "_view_name": "StyleView",
      "description_width": ""
     }
    },
    "ec2b8d286f8d44afa1327ef566b4105c": {
     "model_module": "@jupyter-widgets/controls",
     "model_module_version": "1.5.0",
     "model_name": "FloatProgressModel",
     "state": {
      "_dom_classes": [],
      "_model_module": "@jupyter-widgets/controls",
      "_model_module_version": "1.5.0",
      "_model_name": "FloatProgressModel",
      "_view_count": null,
      "_view_module": "@jupyter-widgets/controls",
      "_view_module_version": "1.5.0",
      "_view_name": "ProgressView",
      "bar_style": "success",
      "description": "",
      "description_tooltip": null,
      "layout": "IPY_MODEL_0e6a0c9baf72474281741ba9a64ea169",
      "max": 4542,
      "min": 0,
      "orientation": "horizontal",
      "style": "IPY_MODEL_5efad5dfd5184b7aaf30e1d5aacf0a7c",
      "value": 4542
     }
    },
    "ec470e78d66b48dcaaebfdc2ea3bca2e": {
     "model_module": "@jupyter-widgets/controls",
     "model_module_version": "1.5.0",
     "model_name": "HTMLModel",
     "state": {
      "_dom_classes": [],
      "_model_module": "@jupyter-widgets/controls",
      "_model_module_version": "1.5.0",
      "_model_name": "HTMLModel",
      "_view_count": null,
      "_view_module": "@jupyter-widgets/controls",
      "_view_module_version": "1.5.0",
      "_view_name": "HTMLView",
      "description": "",
      "description_tooltip": null,
      "layout": "IPY_MODEL_3d038b8f079641ed9c620c1e1e3fa168",
      "placeholder": "​",
      "style": "IPY_MODEL_e51cd2cde5b246fa863d30b1447442f4",
      "value": " 9912422/9912422 [00:00&lt;00:00, 14658174.55it/s]"
     }
    },
    "f56d36f7f86742e0b5d604efe4635f1b": {
     "model_module": "@jupyter-widgets/base",
     "model_module_version": "1.2.0",
     "model_name": "LayoutModel",
     "state": {
      "_model_module": "@jupyter-widgets/base",
      "_model_module_version": "1.2.0",
      "_model_name": "LayoutModel",
      "_view_count": null,
      "_view_module": "@jupyter-widgets/base",
      "_view_module_version": "1.2.0",
      "_view_name": "LayoutView",
      "align_content": null,
      "align_items": null,
      "align_self": null,
      "border": null,
      "bottom": null,
      "display": null,
      "flex": null,
      "flex_flow": null,
      "grid_area": null,
      "grid_auto_columns": null,
      "grid_auto_flow": null,
      "grid_auto_rows": null,
      "grid_column": null,
      "grid_gap": null,
      "grid_row": null,
      "grid_template_areas": null,
      "grid_template_columns": null,
      "grid_template_rows": null,
      "height": null,
      "justify_content": null,
      "justify_items": null,
      "left": null,
      "margin": null,
      "max_height": null,
      "max_width": null,
      "min_height": null,
      "min_width": null,
      "object_fit": null,
      "object_position": null,
      "order": null,
      "overflow": null,
      "overflow_x": null,
      "overflow_y": null,
      "padding": null,
      "right": null,
      "top": null,
      "visibility": null,
      "width": null
     }
    },
    "fc861e4374f54c22ad691ba66ea0e583": {
     "model_module": "@jupyter-widgets/controls",
     "model_module_version": "1.5.0",
     "model_name": "FloatProgressModel",
     "state": {
      "_dom_classes": [],
      "_model_module": "@jupyter-widgets/controls",
      "_model_module_version": "1.5.0",
      "_model_name": "FloatProgressModel",
      "_view_count": null,
      "_view_module": "@jupyter-widgets/controls",
      "_view_module_version": "1.5.0",
      "_view_name": "ProgressView",
      "bar_style": "success",
      "description": "",
      "description_tooltip": null,
      "layout": "IPY_MODEL_4db7ce285e724a6d9cd0b638c7ced711",
      "max": 28881,
      "min": 0,
      "orientation": "horizontal",
      "style": "IPY_MODEL_7f50ac0d39504b62864eb03efa6bccf2",
      "value": 28881
     }
    }
   }
  }
 },
 "nbformat": 4,
 "nbformat_minor": 1
}
